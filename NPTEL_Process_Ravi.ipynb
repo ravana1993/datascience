{
 "cells": [
  {
   "cell_type": "markdown",
   "metadata": {},
   "source": [
    "# Importing relevant libraries"
   ]
  },
  {
   "cell_type": "code",
   "execution_count": 1,
   "metadata": {},
   "outputs": [],
   "source": [
    "import numpy as np\n",
    "import pandas as pd\n",
    "import matplotlib.pyplot as plt\n",
    "import seaborn as sns"
   ]
  },
  {
   "cell_type": "markdown",
   "metadata": {},
   "source": [
    "# Importing data"
   ]
  },
  {
   "cell_type": "code",
   "execution_count": 2,
   "metadata": {},
   "outputs": [
    {
     "data": {
      "text/html": [
       "<div>\n",
       "<style scoped>\n",
       "    .dataframe tbody tr th:only-of-type {\n",
       "        vertical-align: middle;\n",
       "    }\n",
       "\n",
       "    .dataframe tbody tr th {\n",
       "        vertical-align: top;\n",
       "    }\n",
       "\n",
       "    .dataframe thead th {\n",
       "        text-align: right;\n",
       "    }\n",
       "</style>\n",
       "<table border=\"1\" class=\"dataframe\">\n",
       "  <thead>\n",
       "    <tr style=\"text-align: right;\">\n",
       "      <th></th>\n",
       "      <th>student_id</th>\n",
       "      <th>Video_Access</th>\n",
       "      <th>Practice_Problem_Access</th>\n",
       "      <th>Forum_Access</th>\n",
       "      <th>Marks_Assgnmt1</th>\n",
       "      <th>Video_Access.1</th>\n",
       "      <th>Practice_Problem_Access.1</th>\n",
       "      <th>Forum_Access.1</th>\n",
       "      <th>Marks_Assgnmt1.1</th>\n",
       "      <th>Video_Access.2</th>\n",
       "      <th>Practice_Problem_Access.2</th>\n",
       "      <th>Forum_Access.2</th>\n",
       "      <th>Marks_Assgnmt1.2</th>\n",
       "    </tr>\n",
       "  </thead>\n",
       "  <tbody>\n",
       "    <tr>\n",
       "      <th>0</th>\n",
       "      <td>1.0</td>\n",
       "      <td>NaN</td>\n",
       "      <td>NaN</td>\n",
       "      <td>NaN</td>\n",
       "      <td>NaN</td>\n",
       "      <td>0.1815</td>\n",
       "      <td>0.4255</td>\n",
       "      <td>0.4925</td>\n",
       "      <td>0.8938</td>\n",
       "      <td>0.75</td>\n",
       "      <td>0.8468</td>\n",
       "      <td>0.35</td>\n",
       "      <td>0.7201</td>\n",
       "    </tr>\n",
       "    <tr>\n",
       "      <th>1</th>\n",
       "      <td>2.0</td>\n",
       "      <td>NaN</td>\n",
       "      <td>NaN</td>\n",
       "      <td>NaN</td>\n",
       "      <td>NaN</td>\n",
       "      <td>0.9350</td>\n",
       "      <td>0.4126</td>\n",
       "      <td>0.7105</td>\n",
       "      <td>0.8863</td>\n",
       "      <td>0.76</td>\n",
       "      <td>0.8171</td>\n",
       "      <td>1.00</td>\n",
       "      <td>0.8210</td>\n",
       "    </tr>\n",
       "    <tr>\n",
       "      <th>2</th>\n",
       "      <td>3.0</td>\n",
       "      <td>0.75</td>\n",
       "      <td>0.45</td>\n",
       "      <td>0.1012</td>\n",
       "      <td>0.8341</td>\n",
       "      <td>0.1929</td>\n",
       "      <td>0.4871</td>\n",
       "      <td>0.5087</td>\n",
       "      <td>0.9020</td>\n",
       "      <td>0.77</td>\n",
       "      <td>0.6487</td>\n",
       "      <td>0.63</td>\n",
       "      <td>0.5727</td>\n",
       "    </tr>\n",
       "    <tr>\n",
       "      <th>3</th>\n",
       "      <td>4.0</td>\n",
       "      <td>NaN</td>\n",
       "      <td>NaN</td>\n",
       "      <td>NaN</td>\n",
       "      <td>NaN</td>\n",
       "      <td>0.9679</td>\n",
       "      <td>0.4319</td>\n",
       "      <td>0.4809</td>\n",
       "      <td>0.9156</td>\n",
       "      <td>0.76</td>\n",
       "      <td>0.7470</td>\n",
       "      <td>0.60</td>\n",
       "      <td>0.8758</td>\n",
       "    </tr>\n",
       "    <tr>\n",
       "      <th>4</th>\n",
       "      <td>5.0</td>\n",
       "      <td>0.50</td>\n",
       "      <td>0.30</td>\n",
       "      <td>0.9796</td>\n",
       "      <td>0.6437</td>\n",
       "      <td>0.9019</td>\n",
       "      <td>0.3797</td>\n",
       "      <td>0.4182</td>\n",
       "      <td>0.8914</td>\n",
       "      <td>0.76</td>\n",
       "      <td>0.8981</td>\n",
       "      <td>0.42</td>\n",
       "      <td>0.7519</td>\n",
       "    </tr>\n",
       "  </tbody>\n",
       "</table>\n",
       "</div>"
      ],
      "text/plain": [
       "   student_id  Video_Access  Practice_Problem_Access  Forum_Access  \\\n",
       "0         1.0           NaN                      NaN           NaN   \n",
       "1         2.0           NaN                      NaN           NaN   \n",
       "2         3.0          0.75                     0.45        0.1012   \n",
       "3         4.0           NaN                      NaN           NaN   \n",
       "4         5.0          0.50                     0.30        0.9796   \n",
       "\n",
       "   Marks_Assgnmt1  Video_Access.1  Practice_Problem_Access.1  Forum_Access.1  \\\n",
       "0             NaN          0.1815                     0.4255          0.4925   \n",
       "1             NaN          0.9350                     0.4126          0.7105   \n",
       "2          0.8341          0.1929                     0.4871          0.5087   \n",
       "3             NaN          0.9679                     0.4319          0.4809   \n",
       "4          0.6437          0.9019                     0.3797          0.4182   \n",
       "\n",
       "   Marks_Assgnmt1.1  Video_Access.2  Practice_Problem_Access.2  \\\n",
       "0            0.8938            0.75                     0.8468   \n",
       "1            0.8863            0.76                     0.8171   \n",
       "2            0.9020            0.77                     0.6487   \n",
       "3            0.9156            0.76                     0.7470   \n",
       "4            0.8914            0.76                     0.8981   \n",
       "\n",
       "   Forum_Access.2  Marks_Assgnmt1.2  \n",
       "0            0.35            0.7201  \n",
       "1            1.00            0.8210  \n",
       "2            0.63            0.5727  \n",
       "3            0.60            0.8758  \n",
       "4            0.42            0.7519  "
      ]
     },
     "execution_count": 2,
     "metadata": {},
     "output_type": "execute_result"
    }
   ],
   "source": [
    "data = pd.read_excel('College1_Data.xlsx',skiprows=1)\n",
    "data.head()"
   ]
  },
  {
   "cell_type": "code",
   "execution_count": 3,
   "metadata": {},
   "outputs": [
    {
     "data": {
      "text/plain": [
       "student_id                     1\n",
       "Video_Access                 293\n",
       "Practice_Problem_Access      293\n",
       "Forum_Access                 293\n",
       "Marks_Assgnmt1               293\n",
       "Video_Access.1                 0\n",
       "Practice_Problem_Access.1      0\n",
       "Forum_Access.1                 0\n",
       "Marks_Assgnmt1.1               0\n",
       "Video_Access.2               360\n",
       "Practice_Problem_Access.2    360\n",
       "Forum_Access.2               360\n",
       "Marks_Assgnmt1.2             360\n",
       "dtype: int64"
      ]
     },
     "execution_count": 3,
     "metadata": {},
     "output_type": "execute_result"
    }
   ],
   "source": [
    "data.isnull().sum()"
   ]
  },
  {
   "cell_type": "code",
   "execution_count": 4,
   "metadata": {},
   "outputs": [
    {
     "data": {
      "text/plain": [
       "(480, 13)"
      ]
     },
     "execution_count": 4,
     "metadata": {},
     "output_type": "execute_result"
    }
   ],
   "source": [
    "data.shape"
   ]
  },
  {
   "cell_type": "code",
   "execution_count": 5,
   "metadata": {},
   "outputs": [
    {
     "data": {
      "text/plain": [
       "Int64Index([151], dtype='int64')"
      ]
     },
     "execution_count": 5,
     "metadata": {},
     "output_type": "execute_result"
    }
   ],
   "source": [
    "data[data['student_id'].isnull()].index"
   ]
  },
  {
   "cell_type": "code",
   "execution_count": 6,
   "metadata": {},
   "outputs": [],
   "source": [
    "data['student_id'].iloc[151]=152"
   ]
  },
  {
   "cell_type": "code",
   "execution_count": 7,
   "metadata": {},
   "outputs": [
    {
     "data": {
      "text/plain": [
       "student_id                     0\n",
       "Video_Access                 293\n",
       "Practice_Problem_Access      293\n",
       "Forum_Access                 293\n",
       "Marks_Assgnmt1               293\n",
       "Video_Access.1                 0\n",
       "Practice_Problem_Access.1      0\n",
       "Forum_Access.1                 0\n",
       "Marks_Assgnmt1.1               0\n",
       "Video_Access.2               360\n",
       "Practice_Problem_Access.2    360\n",
       "Forum_Access.2               360\n",
       "Marks_Assgnmt1.2             360\n",
       "dtype: int64"
      ]
     },
     "execution_count": 7,
     "metadata": {},
     "output_type": "execute_result"
    }
   ],
   "source": [
    "data.isnull().sum()"
   ]
  },
  {
   "cell_type": "code",
   "execution_count": 8,
   "metadata": {},
   "outputs": [
    {
     "data": {
      "text/plain": [
       "True"
      ]
     },
     "execution_count": 8,
     "metadata": {},
     "output_type": "execute_result"
    }
   ],
   "source": [
    "len(set(data['student_id']))==len(data['student_id']) # To check if student id is unique!! set takes only distinct values"
   ]
  },
  {
   "cell_type": "code",
   "execution_count": 9,
   "metadata": {},
   "outputs": [],
   "source": [
    "data.set_index('student_id',inplace=True)"
   ]
  },
  {
   "cell_type": "code",
   "execution_count": 10,
   "metadata": {},
   "outputs": [
    {
     "data": {
      "text/html": [
       "<div>\n",
       "<style scoped>\n",
       "    .dataframe tbody tr th:only-of-type {\n",
       "        vertical-align: middle;\n",
       "    }\n",
       "\n",
       "    .dataframe tbody tr th {\n",
       "        vertical-align: top;\n",
       "    }\n",
       "\n",
       "    .dataframe thead th {\n",
       "        text-align: right;\n",
       "    }\n",
       "</style>\n",
       "<table border=\"1\" class=\"dataframe\">\n",
       "  <thead>\n",
       "    <tr style=\"text-align: right;\">\n",
       "      <th></th>\n",
       "      <th>Video_Access</th>\n",
       "      <th>Practice_Problem_Access</th>\n",
       "      <th>Forum_Access</th>\n",
       "      <th>Marks_Assgnmt1</th>\n",
       "      <th>Video_Access.1</th>\n",
       "      <th>Practice_Problem_Access.1</th>\n",
       "      <th>Forum_Access.1</th>\n",
       "      <th>Marks_Assgnmt1.1</th>\n",
       "      <th>Video_Access.2</th>\n",
       "      <th>Practice_Problem_Access.2</th>\n",
       "      <th>Forum_Access.2</th>\n",
       "      <th>Marks_Assgnmt1.2</th>\n",
       "    </tr>\n",
       "    <tr>\n",
       "      <th>student_id</th>\n",
       "      <th></th>\n",
       "      <th></th>\n",
       "      <th></th>\n",
       "      <th></th>\n",
       "      <th></th>\n",
       "      <th></th>\n",
       "      <th></th>\n",
       "      <th></th>\n",
       "      <th></th>\n",
       "      <th></th>\n",
       "      <th></th>\n",
       "      <th></th>\n",
       "    </tr>\n",
       "  </thead>\n",
       "  <tbody>\n",
       "    <tr>\n",
       "      <th>1.0</th>\n",
       "      <td>NaN</td>\n",
       "      <td>NaN</td>\n",
       "      <td>NaN</td>\n",
       "      <td>NaN</td>\n",
       "      <td>0.1815</td>\n",
       "      <td>0.4255</td>\n",
       "      <td>0.4925</td>\n",
       "      <td>0.8938</td>\n",
       "      <td>0.75</td>\n",
       "      <td>0.8468</td>\n",
       "      <td>0.35</td>\n",
       "      <td>0.7201</td>\n",
       "    </tr>\n",
       "    <tr>\n",
       "      <th>2.0</th>\n",
       "      <td>NaN</td>\n",
       "      <td>NaN</td>\n",
       "      <td>NaN</td>\n",
       "      <td>NaN</td>\n",
       "      <td>0.9350</td>\n",
       "      <td>0.4126</td>\n",
       "      <td>0.7105</td>\n",
       "      <td>0.8863</td>\n",
       "      <td>0.76</td>\n",
       "      <td>0.8171</td>\n",
       "      <td>1.00</td>\n",
       "      <td>0.8210</td>\n",
       "    </tr>\n",
       "    <tr>\n",
       "      <th>3.0</th>\n",
       "      <td>0.75</td>\n",
       "      <td>0.45</td>\n",
       "      <td>0.1012</td>\n",
       "      <td>0.8341</td>\n",
       "      <td>0.1929</td>\n",
       "      <td>0.4871</td>\n",
       "      <td>0.5087</td>\n",
       "      <td>0.9020</td>\n",
       "      <td>0.77</td>\n",
       "      <td>0.6487</td>\n",
       "      <td>0.63</td>\n",
       "      <td>0.5727</td>\n",
       "    </tr>\n",
       "    <tr>\n",
       "      <th>4.0</th>\n",
       "      <td>NaN</td>\n",
       "      <td>NaN</td>\n",
       "      <td>NaN</td>\n",
       "      <td>NaN</td>\n",
       "      <td>0.9679</td>\n",
       "      <td>0.4319</td>\n",
       "      <td>0.4809</td>\n",
       "      <td>0.9156</td>\n",
       "      <td>0.76</td>\n",
       "      <td>0.7470</td>\n",
       "      <td>0.60</td>\n",
       "      <td>0.8758</td>\n",
       "    </tr>\n",
       "    <tr>\n",
       "      <th>5.0</th>\n",
       "      <td>0.50</td>\n",
       "      <td>0.30</td>\n",
       "      <td>0.9796</td>\n",
       "      <td>0.6437</td>\n",
       "      <td>0.9019</td>\n",
       "      <td>0.3797</td>\n",
       "      <td>0.4182</td>\n",
       "      <td>0.8914</td>\n",
       "      <td>0.76</td>\n",
       "      <td>0.8981</td>\n",
       "      <td>0.42</td>\n",
       "      <td>0.7519</td>\n",
       "    </tr>\n",
       "  </tbody>\n",
       "</table>\n",
       "</div>"
      ],
      "text/plain": [
       "            Video_Access  Practice_Problem_Access  Forum_Access  \\\n",
       "student_id                                                        \n",
       "1.0                  NaN                      NaN           NaN   \n",
       "2.0                  NaN                      NaN           NaN   \n",
       "3.0                 0.75                     0.45        0.1012   \n",
       "4.0                  NaN                      NaN           NaN   \n",
       "5.0                 0.50                     0.30        0.9796   \n",
       "\n",
       "            Marks_Assgnmt1  Video_Access.1  Practice_Problem_Access.1  \\\n",
       "student_id                                                              \n",
       "1.0                    NaN          0.1815                     0.4255   \n",
       "2.0                    NaN          0.9350                     0.4126   \n",
       "3.0                 0.8341          0.1929                     0.4871   \n",
       "4.0                    NaN          0.9679                     0.4319   \n",
       "5.0                 0.6437          0.9019                     0.3797   \n",
       "\n",
       "            Forum_Access.1  Marks_Assgnmt1.1  Video_Access.2  \\\n",
       "student_id                                                     \n",
       "1.0                 0.4925            0.8938            0.75   \n",
       "2.0                 0.7105            0.8863            0.76   \n",
       "3.0                 0.5087            0.9020            0.77   \n",
       "4.0                 0.4809            0.9156            0.76   \n",
       "5.0                 0.4182            0.8914            0.76   \n",
       "\n",
       "            Practice_Problem_Access.2  Forum_Access.2  Marks_Assgnmt1.2  \n",
       "student_id                                                               \n",
       "1.0                            0.8468            0.35            0.7201  \n",
       "2.0                            0.8171            1.00            0.8210  \n",
       "3.0                            0.6487            0.63            0.5727  \n",
       "4.0                            0.7470            0.60            0.8758  \n",
       "5.0                            0.8981            0.42            0.7519  "
      ]
     },
     "execution_count": 10,
     "metadata": {},
     "output_type": "execute_result"
    }
   ],
   "source": [
    "data.head()"
   ]
  },
  {
   "cell_type": "markdown",
   "metadata": {},
   "source": [
    "## Splitting data into 3 courses"
   ]
  },
  {
   "cell_type": "code",
   "execution_count": 11,
   "metadata": {},
   "outputs": [
    {
     "data": {
      "text/html": [
       "<div>\n",
       "<style scoped>\n",
       "    .dataframe tbody tr th:only-of-type {\n",
       "        vertical-align: middle;\n",
       "    }\n",
       "\n",
       "    .dataframe tbody tr th {\n",
       "        vertical-align: top;\n",
       "    }\n",
       "\n",
       "    .dataframe thead th {\n",
       "        text-align: right;\n",
       "    }\n",
       "</style>\n",
       "<table border=\"1\" class=\"dataframe\">\n",
       "  <thead>\n",
       "    <tr style=\"text-align: right;\">\n",
       "      <th></th>\n",
       "      <th>Video_Access</th>\n",
       "      <th>Practice_Problem_Access</th>\n",
       "      <th>Forum_Access</th>\n",
       "      <th>Marks_Assgnmt1</th>\n",
       "    </tr>\n",
       "    <tr>\n",
       "      <th>student_id</th>\n",
       "      <th></th>\n",
       "      <th></th>\n",
       "      <th></th>\n",
       "      <th></th>\n",
       "    </tr>\n",
       "  </thead>\n",
       "  <tbody>\n",
       "    <tr>\n",
       "      <th>1.0</th>\n",
       "      <td>NaN</td>\n",
       "      <td>NaN</td>\n",
       "      <td>NaN</td>\n",
       "      <td>NaN</td>\n",
       "    </tr>\n",
       "    <tr>\n",
       "      <th>2.0</th>\n",
       "      <td>NaN</td>\n",
       "      <td>NaN</td>\n",
       "      <td>NaN</td>\n",
       "      <td>NaN</td>\n",
       "    </tr>\n",
       "    <tr>\n",
       "      <th>3.0</th>\n",
       "      <td>0.75</td>\n",
       "      <td>0.45</td>\n",
       "      <td>0.1012</td>\n",
       "      <td>0.8341</td>\n",
       "    </tr>\n",
       "    <tr>\n",
       "      <th>4.0</th>\n",
       "      <td>NaN</td>\n",
       "      <td>NaN</td>\n",
       "      <td>NaN</td>\n",
       "      <td>NaN</td>\n",
       "    </tr>\n",
       "    <tr>\n",
       "      <th>5.0</th>\n",
       "      <td>0.50</td>\n",
       "      <td>0.30</td>\n",
       "      <td>0.9796</td>\n",
       "      <td>0.6437</td>\n",
       "    </tr>\n",
       "  </tbody>\n",
       "</table>\n",
       "</div>"
      ],
      "text/plain": [
       "            Video_Access  Practice_Problem_Access  Forum_Access  \\\n",
       "student_id                                                        \n",
       "1.0                  NaN                      NaN           NaN   \n",
       "2.0                  NaN                      NaN           NaN   \n",
       "3.0                 0.75                     0.45        0.1012   \n",
       "4.0                  NaN                      NaN           NaN   \n",
       "5.0                 0.50                     0.30        0.9796   \n",
       "\n",
       "            Marks_Assgnmt1  \n",
       "student_id                  \n",
       "1.0                    NaN  \n",
       "2.0                    NaN  \n",
       "3.0                 0.8341  \n",
       "4.0                    NaN  \n",
       "5.0                 0.6437  "
      ]
     },
     "execution_count": 11,
     "metadata": {},
     "output_type": "execute_result"
    }
   ],
   "source": [
    "course1 = data.loc[:,'Video_Access':'Marks_Assgnmt1']\n",
    "course1.head()"
   ]
  },
  {
   "cell_type": "code",
   "execution_count": 12,
   "metadata": {},
   "outputs": [
    {
     "name": "stdout",
     "output_type": "stream",
     "text": [
      "<class 'pandas.core.frame.DataFrame'>\n",
      "Float64Index: 480 entries, 1.0 to 480.0\n",
      "Data columns (total 4 columns):\n",
      "Video_Access               187 non-null float64\n",
      "Practice_Problem_Access    187 non-null float64\n",
      "Forum_Access               187 non-null float64\n",
      "Marks_Assgnmt1             187 non-null float64\n",
      "dtypes: float64(4)\n",
      "memory usage: 18.8 KB\n"
     ]
    }
   ],
   "source": [
    "course1.info()"
   ]
  },
  {
   "cell_type": "code",
   "execution_count": 13,
   "metadata": {},
   "outputs": [
    {
     "data": {
      "text/html": [
       "<div>\n",
       "<style scoped>\n",
       "    .dataframe tbody tr th:only-of-type {\n",
       "        vertical-align: middle;\n",
       "    }\n",
       "\n",
       "    .dataframe tbody tr th {\n",
       "        vertical-align: top;\n",
       "    }\n",
       "\n",
       "    .dataframe thead th {\n",
       "        text-align: right;\n",
       "    }\n",
       "</style>\n",
       "<table border=\"1\" class=\"dataframe\">\n",
       "  <thead>\n",
       "    <tr style=\"text-align: right;\">\n",
       "      <th></th>\n",
       "      <th>count</th>\n",
       "      <th>mean</th>\n",
       "      <th>std</th>\n",
       "      <th>min</th>\n",
       "      <th>25%</th>\n",
       "      <th>50%</th>\n",
       "      <th>75%</th>\n",
       "      <th>max</th>\n",
       "    </tr>\n",
       "  </thead>\n",
       "  <tbody>\n",
       "    <tr>\n",
       "      <th>Video_Access</th>\n",
       "      <td>187.0</td>\n",
       "      <td>0.655027</td>\n",
       "      <td>0.080137</td>\n",
       "      <td>0.4400</td>\n",
       "      <td>0.60000</td>\n",
       "      <td>0.6500</td>\n",
       "      <td>0.7100</td>\n",
       "      <td>0.8900</td>\n",
       "    </tr>\n",
       "    <tr>\n",
       "      <th>Practice_Problem_Access</th>\n",
       "      <td>187.0</td>\n",
       "      <td>0.617005</td>\n",
       "      <td>0.272885</td>\n",
       "      <td>0.1100</td>\n",
       "      <td>0.41000</td>\n",
       "      <td>0.6500</td>\n",
       "      <td>0.8800</td>\n",
       "      <td>1.0000</td>\n",
       "    </tr>\n",
       "    <tr>\n",
       "      <th>Forum_Access</th>\n",
       "      <td>187.0</td>\n",
       "      <td>0.519139</td>\n",
       "      <td>0.417654</td>\n",
       "      <td>0.1002</td>\n",
       "      <td>0.10535</td>\n",
       "      <td>0.1202</td>\n",
       "      <td>0.9438</td>\n",
       "      <td>1.0000</td>\n",
       "    </tr>\n",
       "    <tr>\n",
       "      <th>Marks_Assgnmt1</th>\n",
       "      <td>187.0</td>\n",
       "      <td>0.630048</td>\n",
       "      <td>0.147797</td>\n",
       "      <td>0.2219</td>\n",
       "      <td>0.54095</td>\n",
       "      <td>0.6452</td>\n",
       "      <td>0.7193</td>\n",
       "      <td>0.9963</td>\n",
       "    </tr>\n",
       "  </tbody>\n",
       "</table>\n",
       "</div>"
      ],
      "text/plain": [
       "                         count      mean       std     min      25%     50%  \\\n",
       "Video_Access             187.0  0.655027  0.080137  0.4400  0.60000  0.6500   \n",
       "Practice_Problem_Access  187.0  0.617005  0.272885  0.1100  0.41000  0.6500   \n",
       "Forum_Access             187.0  0.519139  0.417654  0.1002  0.10535  0.1202   \n",
       "Marks_Assgnmt1           187.0  0.630048  0.147797  0.2219  0.54095  0.6452   \n",
       "\n",
       "                            75%     max  \n",
       "Video_Access             0.7100  0.8900  \n",
       "Practice_Problem_Access  0.8800  1.0000  \n",
       "Forum_Access             0.9438  1.0000  \n",
       "Marks_Assgnmt1           0.7193  0.9963  "
      ]
     },
     "execution_count": 13,
     "metadata": {},
     "output_type": "execute_result"
    }
   ],
   "source": [
    "course1.describe().T"
   ]
  },
  {
   "cell_type": "code",
   "execution_count": 14,
   "metadata": {},
   "outputs": [
    {
     "data": {
      "text/plain": [
       "Video_Access               293\n",
       "Practice_Problem_Access    293\n",
       "Forum_Access               293\n",
       "Marks_Assgnmt1             293\n",
       "dtype: int64"
      ]
     },
     "execution_count": 14,
     "metadata": {},
     "output_type": "execute_result"
    }
   ],
   "source": [
    "course1.isnull().sum()"
   ]
  },
  {
   "cell_type": "code",
   "execution_count": 15,
   "metadata": {},
   "outputs": [
    {
     "data": {
      "text/html": [
       "<div>\n",
       "<style scoped>\n",
       "    .dataframe tbody tr th:only-of-type {\n",
       "        vertical-align: middle;\n",
       "    }\n",
       "\n",
       "    .dataframe tbody tr th {\n",
       "        vertical-align: top;\n",
       "    }\n",
       "\n",
       "    .dataframe thead th {\n",
       "        text-align: right;\n",
       "    }\n",
       "</style>\n",
       "<table border=\"1\" class=\"dataframe\">\n",
       "  <thead>\n",
       "    <tr style=\"text-align: right;\">\n",
       "      <th></th>\n",
       "      <th>Video_Access.1</th>\n",
       "      <th>Practice_Problem_Access.1</th>\n",
       "      <th>Forum_Access.1</th>\n",
       "      <th>Marks_Assgnmt1.1</th>\n",
       "    </tr>\n",
       "    <tr>\n",
       "      <th>student_id</th>\n",
       "      <th></th>\n",
       "      <th></th>\n",
       "      <th></th>\n",
       "      <th></th>\n",
       "    </tr>\n",
       "  </thead>\n",
       "  <tbody>\n",
       "    <tr>\n",
       "      <th>1.0</th>\n",
       "      <td>0.1815</td>\n",
       "      <td>0.4255</td>\n",
       "      <td>0.4925</td>\n",
       "      <td>0.8938</td>\n",
       "    </tr>\n",
       "    <tr>\n",
       "      <th>2.0</th>\n",
       "      <td>0.9350</td>\n",
       "      <td>0.4126</td>\n",
       "      <td>0.7105</td>\n",
       "      <td>0.8863</td>\n",
       "    </tr>\n",
       "    <tr>\n",
       "      <th>3.0</th>\n",
       "      <td>0.1929</td>\n",
       "      <td>0.4871</td>\n",
       "      <td>0.5087</td>\n",
       "      <td>0.9020</td>\n",
       "    </tr>\n",
       "    <tr>\n",
       "      <th>4.0</th>\n",
       "      <td>0.9679</td>\n",
       "      <td>0.4319</td>\n",
       "      <td>0.4809</td>\n",
       "      <td>0.9156</td>\n",
       "    </tr>\n",
       "    <tr>\n",
       "      <th>5.0</th>\n",
       "      <td>0.9019</td>\n",
       "      <td>0.3797</td>\n",
       "      <td>0.4182</td>\n",
       "      <td>0.8914</td>\n",
       "    </tr>\n",
       "  </tbody>\n",
       "</table>\n",
       "</div>"
      ],
      "text/plain": [
       "            Video_Access.1  Practice_Problem_Access.1  Forum_Access.1  \\\n",
       "student_id                                                              \n",
       "1.0                 0.1815                     0.4255          0.4925   \n",
       "2.0                 0.9350                     0.4126          0.7105   \n",
       "3.0                 0.1929                     0.4871          0.5087   \n",
       "4.0                 0.9679                     0.4319          0.4809   \n",
       "5.0                 0.9019                     0.3797          0.4182   \n",
       "\n",
       "            Marks_Assgnmt1.1  \n",
       "student_id                    \n",
       "1.0                   0.8938  \n",
       "2.0                   0.8863  \n",
       "3.0                   0.9020  \n",
       "4.0                   0.9156  \n",
       "5.0                   0.8914  "
      ]
     },
     "execution_count": 15,
     "metadata": {},
     "output_type": "execute_result"
    }
   ],
   "source": [
    "course2 = data.loc[:,'Video_Access.1':'Marks_Assgnmt1.1']\n",
    "course2.head()"
   ]
  },
  {
   "cell_type": "code",
   "execution_count": 16,
   "metadata": {},
   "outputs": [
    {
     "name": "stdout",
     "output_type": "stream",
     "text": [
      "<class 'pandas.core.frame.DataFrame'>\n",
      "Float64Index: 480 entries, 1.0 to 480.0\n",
      "Data columns (total 4 columns):\n",
      "Video_Access.1               480 non-null float64\n",
      "Practice_Problem_Access.1    480 non-null float64\n",
      "Forum_Access.1               480 non-null float64\n",
      "Marks_Assgnmt1.1             480 non-null float64\n",
      "dtypes: float64(4)\n",
      "memory usage: 18.8 KB\n",
      "None\n",
      "---------------------\n",
      "                           count      mean       std     min       25%  \\\n",
      "Video_Access.1             480.0  0.758215  0.273621  0.1008  0.725025   \n",
      "Practice_Problem_Access.1  480.0  0.450051  0.065000  0.2819  0.404675   \n",
      "Forum_Access.1             480.0  0.500049  0.100002  0.1892  0.430700   \n",
      "Marks_Assgnmt1.1           480.0  0.900050  0.007999  0.8755  0.894500   \n",
      "\n",
      "                               50%       75%     max  \n",
      "Video_Access.1             0.87745  0.941700  1.0000  \n",
      "Practice_Problem_Access.1  0.44825  0.495725  0.6388  \n",
      "Forum_Access.1             0.50365  0.570775  0.7972  \n",
      "Marks_Assgnmt1.1           0.90000  0.905525  0.9222  \n",
      "---------------------\n",
      "Video_Access.1               0\n",
      "Practice_Problem_Access.1    0\n",
      "Forum_Access.1               0\n",
      "Marks_Assgnmt1.1             0\n",
      "dtype: int64\n"
     ]
    }
   ],
   "source": [
    "print(course2.info())\n",
    "print('---------------------')\n",
    "print(course2.describe().T)\n",
    "print('---------------------')\n",
    "print(course2.isnull().sum())"
   ]
  },
  {
   "cell_type": "code",
   "execution_count": 17,
   "metadata": {},
   "outputs": [
    {
     "data": {
      "text/html": [
       "<div>\n",
       "<style scoped>\n",
       "    .dataframe tbody tr th:only-of-type {\n",
       "        vertical-align: middle;\n",
       "    }\n",
       "\n",
       "    .dataframe tbody tr th {\n",
       "        vertical-align: top;\n",
       "    }\n",
       "\n",
       "    .dataframe thead th {\n",
       "        text-align: right;\n",
       "    }\n",
       "</style>\n",
       "<table border=\"1\" class=\"dataframe\">\n",
       "  <thead>\n",
       "    <tr style=\"text-align: right;\">\n",
       "      <th></th>\n",
       "      <th>Video_Access.2</th>\n",
       "      <th>Practice_Problem_Access.2</th>\n",
       "      <th>Forum_Access.2</th>\n",
       "      <th>Marks_Assgnmt1.2</th>\n",
       "    </tr>\n",
       "    <tr>\n",
       "      <th>student_id</th>\n",
       "      <th></th>\n",
       "      <th></th>\n",
       "      <th></th>\n",
       "      <th></th>\n",
       "    </tr>\n",
       "  </thead>\n",
       "  <tbody>\n",
       "    <tr>\n",
       "      <th>1.0</th>\n",
       "      <td>0.75</td>\n",
       "      <td>0.8468</td>\n",
       "      <td>0.35</td>\n",
       "      <td>0.7201</td>\n",
       "    </tr>\n",
       "    <tr>\n",
       "      <th>2.0</th>\n",
       "      <td>0.76</td>\n",
       "      <td>0.8171</td>\n",
       "      <td>1.00</td>\n",
       "      <td>0.8210</td>\n",
       "    </tr>\n",
       "    <tr>\n",
       "      <th>3.0</th>\n",
       "      <td>0.77</td>\n",
       "      <td>0.6487</td>\n",
       "      <td>0.63</td>\n",
       "      <td>0.5727</td>\n",
       "    </tr>\n",
       "    <tr>\n",
       "      <th>4.0</th>\n",
       "      <td>0.76</td>\n",
       "      <td>0.7470</td>\n",
       "      <td>0.60</td>\n",
       "      <td>0.8758</td>\n",
       "    </tr>\n",
       "    <tr>\n",
       "      <th>5.0</th>\n",
       "      <td>0.76</td>\n",
       "      <td>0.8981</td>\n",
       "      <td>0.42</td>\n",
       "      <td>0.7519</td>\n",
       "    </tr>\n",
       "  </tbody>\n",
       "</table>\n",
       "</div>"
      ],
      "text/plain": [
       "            Video_Access.2  Practice_Problem_Access.2  Forum_Access.2  \\\n",
       "student_id                                                              \n",
       "1.0                   0.75                     0.8468            0.35   \n",
       "2.0                   0.76                     0.8171            1.00   \n",
       "3.0                   0.77                     0.6487            0.63   \n",
       "4.0                   0.76                     0.7470            0.60   \n",
       "5.0                   0.76                     0.8981            0.42   \n",
       "\n",
       "            Marks_Assgnmt1.2  \n",
       "student_id                    \n",
       "1.0                   0.7201  \n",
       "2.0                   0.8210  \n",
       "3.0                   0.5727  \n",
       "4.0                   0.8758  \n",
       "5.0                   0.7519  "
      ]
     },
     "execution_count": 17,
     "metadata": {},
     "output_type": "execute_result"
    }
   ],
   "source": [
    "course3 = data.loc[:,'Video_Access.2':'Marks_Assgnmt1.2']\n",
    "course3.head()"
   ]
  },
  {
   "cell_type": "code",
   "execution_count": 18,
   "metadata": {},
   "outputs": [
    {
     "name": "stdout",
     "output_type": "stream",
     "text": [
      "<class 'pandas.core.frame.DataFrame'>\n",
      "Float64Index: 480 entries, 1.0 to 480.0\n",
      "Data columns (total 4 columns):\n",
      "Video_Access.2               120 non-null float64\n",
      "Practice_Problem_Access.2    120 non-null float64\n",
      "Forum_Access.2               120 non-null float64\n",
      "Marks_Assgnmt1.2             120 non-null float64\n",
      "dtypes: float64(4)\n",
      "memory usage: 18.8 KB\n",
      "None\n",
      "---------------------\n",
      "                           count      mean       std     min       25%  \\\n",
      "Video_Access.2             120.0  0.765000  0.006482  0.7500  0.760000   \n",
      "Practice_Problem_Access.2  120.0  0.800047  0.100801  0.5185  0.734750   \n",
      "Forum_Access.2             120.0  0.581750  0.232966  0.1100  0.402500   \n",
      "Marks_Assgnmt1.2           120.0  0.740047  0.087000  0.5106  0.680025   \n",
      "\n",
      "                               50%       75%     max  \n",
      "Video_Access.2             0.76500  0.770000  0.7800  \n",
      "Practice_Problem_Access.2  0.80430  0.875700  0.9953  \n",
      "Forum_Access.2             0.56000  0.780000  1.0000  \n",
      "Marks_Assgnmt1.2           0.74715  0.812775  0.9530  \n",
      "---------------------\n",
      "Video_Access.2               360\n",
      "Practice_Problem_Access.2    360\n",
      "Forum_Access.2               360\n",
      "Marks_Assgnmt1.2             360\n",
      "dtype: int64\n"
     ]
    }
   ],
   "source": [
    "print(course3.info())\n",
    "print('---------------------')\n",
    "print(course3.describe().T)\n",
    "print('---------------------')\n",
    "print(course3.isnull().sum())"
   ]
  },
  {
   "cell_type": "markdown",
   "metadata": {},
   "source": [
    "### To check if there all null values belong to same index(student id)!!"
   ]
  },
  {
   "cell_type": "code",
   "execution_count": 19,
   "metadata": {},
   "outputs": [
    {
     "name": "stdout",
     "output_type": "stream",
     "text": [
      "[ True  True  True  True  True  True  True  True  True  True  True  True\n",
      "  True  True  True  True  True  True  True  True  True  True  True  True\n",
      "  True  True  True  True  True  True  True  True  True  True  True  True\n",
      "  True  True  True  True  True  True  True  True  True  True  True  True\n",
      "  True  True  True  True  True  True  True  True  True  True  True  True\n",
      "  True  True  True  True  True  True  True  True  True  True  True  True\n",
      "  True  True  True  True  True  True  True  True  True  True  True  True\n",
      "  True  True  True  True  True  True  True  True  True  True  True  True\n",
      "  True  True  True  True  True  True  True  True  True  True  True  True\n",
      "  True  True  True  True  True  True  True  True  True  True  True  True\n",
      "  True  True  True  True  True  True  True  True  True  True  True  True\n",
      "  True  True  True  True  True  True  True  True  True  True  True  True\n",
      "  True  True  True  True  True  True  True  True  True  True  True  True\n",
      "  True  True  True  True  True  True  True  True  True  True  True  True\n",
      "  True  True  True  True  True  True  True  True  True  True  True  True\n",
      "  True  True  True  True  True  True  True  True  True  True  True  True\n",
      "  True  True  True  True  True  True  True  True  True  True  True  True\n",
      "  True  True  True  True  True  True  True  True  True  True  True  True\n",
      "  True  True  True  True  True  True  True  True  True  True  True  True\n",
      "  True  True  True  True  True  True  True  True  True  True  True  True\n",
      "  True  True  True  True  True  True  True  True  True  True  True  True\n",
      "  True  True  True  True  True  True  True  True  True  True  True  True\n",
      "  True  True  True  True  True  True  True  True  True  True  True  True\n",
      "  True  True  True  True  True  True  True  True  True  True  True  True\n",
      "  True  True  True  True  True]\n",
      "[ True  True  True  True  True  True  True  True  True  True  True  True\n",
      "  True  True  True  True  True  True  True  True  True  True  True  True\n",
      "  True  True  True  True  True  True  True  True  True  True  True  True\n",
      "  True  True  True  True  True  True  True  True  True  True  True  True\n",
      "  True  True  True  True  True  True  True  True  True  True  True  True\n",
      "  True  True  True  True  True  True  True  True  True  True  True  True\n",
      "  True  True  True  True  True  True  True  True  True  True  True  True\n",
      "  True  True  True  True  True  True  True  True  True  True  True  True\n",
      "  True  True  True  True  True  True  True  True  True  True  True  True\n",
      "  True  True  True  True  True  True  True  True  True  True  True  True\n",
      "  True  True  True  True  True  True  True  True  True  True  True  True\n",
      "  True  True  True  True  True  True  True  True  True  True  True  True\n",
      "  True  True  True  True  True  True  True  True  True  True  True  True\n",
      "  True  True  True  True  True  True  True  True  True  True  True  True\n",
      "  True  True  True  True  True  True  True  True  True  True  True  True\n",
      "  True  True  True  True  True  True  True  True  True  True  True  True\n",
      "  True  True  True  True  True  True  True  True  True  True  True  True\n",
      "  True  True  True  True  True  True  True  True  True  True  True  True\n",
      "  True  True  True  True  True  True  True  True  True  True  True  True\n",
      "  True  True  True  True  True  True  True  True  True  True  True  True\n",
      "  True  True  True  True  True  True  True  True  True  True  True  True\n",
      "  True  True  True  True  True  True  True  True  True  True  True  True\n",
      "  True  True  True  True  True  True  True  True  True  True  True  True\n",
      "  True  True  True  True  True  True  True  True  True  True  True  True\n",
      "  True  True  True  True  True]\n",
      "[ True  True  True  True  True  True  True  True  True  True  True  True\n",
      "  True  True  True  True  True  True  True  True  True  True  True  True\n",
      "  True  True  True  True  True  True  True  True  True  True  True  True\n",
      "  True  True  True  True  True  True  True  True  True  True  True  True\n",
      "  True  True  True  True  True  True  True  True  True  True  True  True\n",
      "  True  True  True  True  True  True  True  True  True  True  True  True\n",
      "  True  True  True  True  True  True  True  True  True  True  True  True\n",
      "  True  True  True  True  True  True  True  True  True  True  True  True\n",
      "  True  True  True  True  True  True  True  True  True  True  True  True\n",
      "  True  True  True  True  True  True  True  True  True  True  True  True\n",
      "  True  True  True  True  True  True  True  True  True  True  True  True\n",
      "  True  True  True  True  True  True  True  True  True  True  True  True\n",
      "  True  True  True  True  True  True  True  True  True  True  True  True\n",
      "  True  True  True  True  True  True  True  True  True  True  True  True\n",
      "  True  True  True  True  True  True  True  True  True  True  True  True\n",
      "  True  True  True  True  True  True  True  True  True  True  True  True\n",
      "  True  True  True  True  True  True  True  True  True  True  True  True\n",
      "  True  True  True  True  True  True  True  True  True  True  True  True\n",
      "  True  True  True  True  True  True  True  True  True  True  True  True\n",
      "  True  True  True  True  True  True  True  True  True  True  True  True\n",
      "  True  True  True  True  True  True  True  True  True  True  True  True\n",
      "  True  True  True  True  True  True  True  True  True  True  True  True\n",
      "  True  True  True  True  True  True  True  True  True  True  True  True\n",
      "  True  True  True  True  True  True  True  True  True  True  True  True\n",
      "  True  True  True  True  True]\n"
     ]
    }
   ],
   "source": [
    "print(course1[course1['Video_Access'].isnull()].index==course1[course1['Practice_Problem_Access'].isnull()].index)\n",
    "print(course1[course1['Video_Access'].isnull()].index==course1[course1['Forum_Access'].isnull()].index)\n",
    "print(course1[course1['Video_Access'].isnull()].index==course1[course1['Marks_Assgnmt1'].isnull()].index)"
   ]
  },
  {
   "cell_type": "code",
   "execution_count": 20,
   "metadata": {},
   "outputs": [
    {
     "name": "stdout",
     "output_type": "stream",
     "text": [
      "[ True  True  True  True  True  True  True  True  True  True  True  True\n",
      "  True  True  True  True  True  True  True  True  True  True  True  True\n",
      "  True  True  True  True  True  True  True  True  True  True  True  True\n",
      "  True  True  True  True  True  True  True  True  True  True  True  True\n",
      "  True  True  True  True  True  True  True  True  True  True  True  True\n",
      "  True  True  True  True  True  True  True  True  True  True  True  True\n",
      "  True  True  True  True  True  True  True  True  True  True  True  True\n",
      "  True  True  True  True  True  True  True  True  True  True  True  True\n",
      "  True  True  True  True  True  True  True  True  True  True  True  True\n",
      "  True  True  True  True  True  True  True  True  True  True  True  True\n",
      "  True  True  True  True  True  True  True  True  True  True  True  True\n",
      "  True  True  True  True  True  True  True  True  True  True  True  True\n",
      "  True  True  True  True  True  True  True  True  True  True  True  True\n",
      "  True  True  True  True  True  True  True  True  True  True  True  True\n",
      "  True  True  True  True  True  True  True  True  True  True  True  True\n",
      "  True  True  True  True  True  True  True  True  True  True  True  True\n",
      "  True  True  True  True  True  True  True  True  True  True  True  True\n",
      "  True  True  True  True  True  True  True  True  True  True  True  True\n",
      "  True  True  True  True  True  True  True  True  True  True  True  True\n",
      "  True  True  True  True  True  True  True  True  True  True  True  True\n",
      "  True  True  True  True  True  True  True  True  True  True  True  True\n",
      "  True  True  True  True  True  True  True  True  True  True  True  True\n",
      "  True  True  True  True  True  True  True  True  True  True  True  True\n",
      "  True  True  True  True  True  True  True  True  True  True  True  True\n",
      "  True  True  True  True  True  True  True  True  True  True  True  True\n",
      "  True  True  True  True  True  True  True  True  True  True  True  True\n",
      "  True  True  True  True  True  True  True  True  True  True  True  True\n",
      "  True  True  True  True  True  True  True  True  True  True  True  True\n",
      "  True  True  True  True  True  True  True  True  True  True  True  True\n",
      "  True  True  True  True  True  True  True  True  True  True  True  True]\n",
      "[ True  True  True  True  True  True  True  True  True  True  True  True\n",
      "  True  True  True  True  True  True  True  True  True  True  True  True\n",
      "  True  True  True  True  True  True  True  True  True  True  True  True\n",
      "  True  True  True  True  True  True  True  True  True  True  True  True\n",
      "  True  True  True  True  True  True  True  True  True  True  True  True\n",
      "  True  True  True  True  True  True  True  True  True  True  True  True\n",
      "  True  True  True  True  True  True  True  True  True  True  True  True\n",
      "  True  True  True  True  True  True  True  True  True  True  True  True\n",
      "  True  True  True  True  True  True  True  True  True  True  True  True\n",
      "  True  True  True  True  True  True  True  True  True  True  True  True\n",
      "  True  True  True  True  True  True  True  True  True  True  True  True\n",
      "  True  True  True  True  True  True  True  True  True  True  True  True\n",
      "  True  True  True  True  True  True  True  True  True  True  True  True\n",
      "  True  True  True  True  True  True  True  True  True  True  True  True\n",
      "  True  True  True  True  True  True  True  True  True  True  True  True\n",
      "  True  True  True  True  True  True  True  True  True  True  True  True\n",
      "  True  True  True  True  True  True  True  True  True  True  True  True\n",
      "  True  True  True  True  True  True  True  True  True  True  True  True\n",
      "  True  True  True  True  True  True  True  True  True  True  True  True\n",
      "  True  True  True  True  True  True  True  True  True  True  True  True\n",
      "  True  True  True  True  True  True  True  True  True  True  True  True\n",
      "  True  True  True  True  True  True  True  True  True  True  True  True\n",
      "  True  True  True  True  True  True  True  True  True  True  True  True\n",
      "  True  True  True  True  True  True  True  True  True  True  True  True\n",
      "  True  True  True  True  True  True  True  True  True  True  True  True\n",
      "  True  True  True  True  True  True  True  True  True  True  True  True\n",
      "  True  True  True  True  True  True  True  True  True  True  True  True\n",
      "  True  True  True  True  True  True  True  True  True  True  True  True\n",
      "  True  True  True  True  True  True  True  True  True  True  True  True\n",
      "  True  True  True  True  True  True  True  True  True  True  True  True]\n",
      "[ True  True  True  True  True  True  True  True  True  True  True  True\n",
      "  True  True  True  True  True  True  True  True  True  True  True  True\n",
      "  True  True  True  True  True  True  True  True  True  True  True  True\n",
      "  True  True  True  True  True  True  True  True  True  True  True  True\n",
      "  True  True  True  True  True  True  True  True  True  True  True  True\n",
      "  True  True  True  True  True  True  True  True  True  True  True  True\n",
      "  True  True  True  True  True  True  True  True  True  True  True  True\n",
      "  True  True  True  True  True  True  True  True  True  True  True  True\n",
      "  True  True  True  True  True  True  True  True  True  True  True  True\n",
      "  True  True  True  True  True  True  True  True  True  True  True  True\n",
      "  True  True  True  True  True  True  True  True  True  True  True  True\n",
      "  True  True  True  True  True  True  True  True  True  True  True  True\n",
      "  True  True  True  True  True  True  True  True  True  True  True  True\n",
      "  True  True  True  True  True  True  True  True  True  True  True  True\n",
      "  True  True  True  True  True  True  True  True  True  True  True  True\n",
      "  True  True  True  True  True  True  True  True  True  True  True  True\n",
      "  True  True  True  True  True  True  True  True  True  True  True  True\n",
      "  True  True  True  True  True  True  True  True  True  True  True  True\n",
      "  True  True  True  True  True  True  True  True  True  True  True  True\n",
      "  True  True  True  True  True  True  True  True  True  True  True  True\n",
      "  True  True  True  True  True  True  True  True  True  True  True  True\n",
      "  True  True  True  True  True  True  True  True  True  True  True  True\n",
      "  True  True  True  True  True  True  True  True  True  True  True  True\n",
      "  True  True  True  True  True  True  True  True  True  True  True  True\n",
      "  True  True  True  True  True  True  True  True  True  True  True  True\n",
      "  True  True  True  True  True  True  True  True  True  True  True  True\n",
      "  True  True  True  True  True  True  True  True  True  True  True  True\n",
      "  True  True  True  True  True  True  True  True  True  True  True  True\n",
      "  True  True  True  True  True  True  True  True  True  True  True  True\n",
      "  True  True  True  True  True  True  True  True  True  True  True  True]\n"
     ]
    }
   ],
   "source": [
    "print(course3[course3['Video_Access.2'].isnull()].index==course3[course3['Practice_Problem_Access.2'].isnull()].index)\n",
    "print(course3[course3['Video_Access.2'].isnull()].index==course3[course3['Forum_Access.2'].isnull()].index)\n",
    "print(course3[course3['Video_Access.2'].isnull()].index==course3[course3['Marks_Assgnmt1.2'].isnull()].index)"
   ]
  },
  {
   "cell_type": "markdown",
   "metadata": {},
   "source": [
    "## Courses that have null values\n",
    "### Course1 has 293 null values i.e 293 out of 480 students didn't take course1\n",
    "### Course3 has 360 null values i.e 360 out of 480 students didn't take course3"
   ]
  },
  {
   "cell_type": "code",
   "execution_count": 21,
   "metadata": {},
   "outputs": [
    {
     "name": "stdout",
     "output_type": "stream",
     "text": [
      "Students who haven't taken course1 :  [1.0, 2.0, 4.0, 7.0, 8.0, 9.0, 10.0, 11.0, 12.0, 15.0, 17.0, 18.0, 19.0, 20.0, 21.0, 22.0, 23.0, 24.0, 26.0, 27.0, 30.0, 31.0, 33.0, 37.0, 38.0, 40.0, 41.0, 43.0, 45.0, 48.0, 50.0, 51.0, 52.0, 53.0, 54.0, 56.0, 57.0, 58.0, 59.0, 60.0, 61.0, 62.0, 63.0, 64.0, 65.0, 66.0, 68.0, 70.0, 71.0, 72.0, 74.0, 75.0, 77.0, 78.0, 79.0, 80.0, 81.0, 83.0, 84.0, 85.0, 86.0, 87.0, 88.0, 89.0, 90.0, 91.0, 92.0, 93.0, 94.0, 95.0, 96.0, 97.0, 98.0, 99.0, 100.0, 104.0, 105.0, 110.0, 111.0, 112.0, 113.0, 114.0, 115.0, 116.0, 117.0, 118.0, 119.0, 120.0, 121.0, 122.0, 126.0, 127.0, 129.0, 130.0, 131.0, 132.0, 133.0, 135.0, 136.0, 137.0, 138.0, 141.0, 142.0, 143.0, 144.0, 145.0, 146.0, 147.0, 149.0, 150.0, 152.0, 154.0, 156.0, 158.0, 159.0, 160.0, 161.0, 162.0, 164.0, 167.0, 169.0, 172.0, 175.0, 176.0, 177.0, 178.0, 180.0, 182.0, 183.0, 185.0, 189.0, 191.0, 192.0, 193.0, 197.0, 200.0, 201.0, 204.0, 205.0, 207.0, 208.0, 209.0, 212.0, 213.0, 214.0, 216.0, 218.0, 219.0, 220.0, 221.0, 222.0, 223.0, 224.0, 225.0, 226.0, 228.0, 230.0, 231.0, 233.0, 234.0, 238.0, 239.0, 244.0, 245.0, 246.0, 247.0, 248.0, 251.0, 254.0, 255.0, 256.0, 257.0, 258.0, 262.0, 263.0, 265.0, 266.0, 267.0, 268.0, 269.0, 270.0, 272.0, 273.0, 274.0, 275.0, 276.0, 277.0, 278.0, 281.0, 282.0, 284.0, 285.0, 286.0, 287.0, 288.0, 289.0, 290.0, 292.0, 293.0, 294.0, 295.0, 297.0, 299.0, 301.0, 304.0, 306.0, 307.0, 308.0, 309.0, 310.0, 311.0, 319.0, 320.0, 322.0, 323.0, 324.0, 329.0, 330.0, 331.0, 334.0, 337.0, 340.0, 341.0, 346.0, 347.0, 348.0, 351.0, 353.0, 355.0, 356.0, 357.0, 358.0, 360.0, 364.0, 365.0, 368.0, 369.0, 373.0, 376.0, 377.0, 379.0, 381.0, 385.0, 388.0, 395.0, 396.0, 397.0, 401.0, 402.0, 404.0, 405.0, 409.0, 411.0, 413.0, 414.0, 415.0, 416.0, 417.0, 418.0, 421.0, 423.0, 424.0, 425.0, 427.0, 428.0, 430.0, 431.0, 437.0, 438.0, 439.0, 440.0, 442.0, 443.0, 444.0, 445.0, 446.0, 447.0, 448.0, 451.0, 453.0, 457.0, 458.0, 459.0, 462.0, 463.0, 464.0, 466.0, 467.0, 469.0, 470.0, 473.0, 475.0, 479.0]\n",
      "----------------------------------\n",
      "Students who haven't taken course3 :  [62.0, 63.0, 64.0, 65.0, 66.0, 67.0, 68.0, 69.0, 70.0, 71.0, 72.0, 73.0, 74.0, 75.0, 76.0, 77.0, 78.0, 79.0, 80.0, 81.0, 82.0, 83.0, 84.0, 85.0, 86.0, 87.0, 88.0, 89.0, 90.0, 91.0, 92.0, 93.0, 94.0, 95.0, 96.0, 97.0, 98.0, 99.0, 100.0, 101.0, 102.0, 103.0, 104.0, 105.0, 106.0, 107.0, 108.0, 109.0, 110.0, 111.0, 112.0, 113.0, 114.0, 115.0, 116.0, 117.0, 118.0, 119.0, 120.0, 121.0, 122.0, 123.0, 124.0, 125.0, 126.0, 127.0, 128.0, 129.0, 130.0, 131.0, 132.0, 133.0, 134.0, 135.0, 136.0, 137.0, 138.0, 139.0, 140.0, 141.0, 142.0, 143.0, 144.0, 145.0, 146.0, 147.0, 148.0, 149.0, 150.0, 151.0, 152.0, 153.0, 154.0, 155.0, 156.0, 157.0, 158.0, 159.0, 160.0, 161.0, 162.0, 163.0, 164.0, 165.0, 166.0, 167.0, 168.0, 169.0, 170.0, 171.0, 172.0, 173.0, 174.0, 175.0, 176.0, 177.0, 178.0, 179.0, 180.0, 181.0, 182.0, 183.0, 184.0, 185.0, 186.0, 187.0, 188.0, 189.0, 190.0, 191.0, 192.0, 193.0, 194.0, 195.0, 196.0, 197.0, 198.0, 199.0, 200.0, 201.0, 202.0, 203.0, 204.0, 205.0, 206.0, 207.0, 208.0, 209.0, 210.0, 211.0, 212.0, 213.0, 214.0, 215.0, 216.0, 217.0, 218.0, 219.0, 220.0, 221.0, 222.0, 223.0, 224.0, 225.0, 226.0, 227.0, 228.0, 229.0, 230.0, 231.0, 232.0, 233.0, 234.0, 235.0, 236.0, 237.0, 238.0, 239.0, 240.0, 300.0, 301.0, 302.0, 303.0, 304.0, 305.0, 306.0, 307.0, 308.0, 309.0, 310.0, 311.0, 312.0, 313.0, 314.0, 315.0, 316.0, 317.0, 318.0, 319.0, 320.0, 321.0, 322.0, 323.0, 324.0, 325.0, 326.0, 327.0, 328.0, 329.0, 330.0, 331.0, 332.0, 333.0, 334.0, 335.0, 336.0, 337.0, 338.0, 339.0, 340.0, 341.0, 342.0, 343.0, 344.0, 345.0, 346.0, 347.0, 348.0, 349.0, 350.0, 351.0, 352.0, 353.0, 354.0, 355.0, 356.0, 357.0, 358.0, 359.0, 360.0, 361.0, 362.0, 363.0, 364.0, 365.0, 366.0, 367.0, 368.0, 369.0, 370.0, 371.0, 372.0, 373.0, 374.0, 375.0, 376.0, 377.0, 378.0, 379.0, 380.0, 381.0, 382.0, 383.0, 384.0, 385.0, 386.0, 387.0, 388.0, 389.0, 390.0, 391.0, 392.0, 393.0, 394.0, 395.0, 396.0, 397.0, 398.0, 399.0, 400.0, 401.0, 402.0, 403.0, 404.0, 405.0, 406.0, 407.0, 408.0, 409.0, 410.0, 411.0, 412.0, 413.0, 414.0, 415.0, 416.0, 417.0, 418.0, 419.0, 420.0, 421.0, 422.0, 423.0, 424.0, 425.0, 426.0, 427.0, 428.0, 429.0, 430.0, 431.0, 432.0, 433.0, 434.0, 435.0, 436.0, 437.0, 438.0, 439.0, 440.0, 441.0, 442.0, 443.0, 444.0, 445.0, 446.0, 447.0, 448.0, 449.0, 450.0, 451.0, 452.0, 453.0, 454.0, 455.0, 456.0, 457.0, 458.0, 459.0, 460.0, 461.0, 462.0, 463.0, 464.0, 465.0, 466.0, 467.0, 468.0, 469.0, 470.0, 471.0, 472.0, 473.0, 474.0, 475.0, 476.0, 477.0, 478.0, 479.0, 480.0]\n"
     ]
    }
   ],
   "source": [
    "#List of students who haven't taken the courses\n",
    "#Course1\n",
    "not_taken_1 = list(course1[course1['Video_Access'].isnull()].index)\n",
    "#Course3\n",
    "not_taken_3 = list(course3[course3['Video_Access.2'].isnull()].index)\n",
    "\n",
    "print(\"Students who haven't taken course1 : \",not_taken_1)\n",
    "print(\"----------------------------------\")\n",
    "print(\"Students who haven't taken course3 : \",not_taken_3)"
   ]
  },
  {
   "cell_type": "code",
   "execution_count": 22,
   "metadata": {},
   "outputs": [
    {
     "name": "stdout",
     "output_type": "stream",
     "text": [
      "Students who didn't take course1 and course3 are :  [62.0, 63.0, 64.0, 65.0, 66.0, 68.0, 70.0, 71.0, 72.0, 74.0, 75.0, 77.0, 78.0, 79.0, 80.0, 81.0, 83.0, 84.0, 85.0, 86.0, 87.0, 88.0, 89.0, 90.0, 91.0, 92.0, 93.0, 94.0, 95.0, 96.0, 97.0, 98.0, 99.0, 100.0, 104.0, 105.0, 110.0, 111.0, 112.0, 113.0, 114.0, 115.0, 116.0, 117.0, 118.0, 119.0, 120.0, 121.0, 122.0, 126.0, 127.0, 129.0, 130.0, 131.0, 132.0, 133.0, 135.0, 136.0, 137.0, 138.0, 141.0, 142.0, 143.0, 144.0, 145.0, 146.0, 147.0, 149.0, 150.0, 152.0, 154.0, 156.0, 158.0, 159.0, 160.0, 161.0, 162.0, 164.0, 167.0, 169.0, 172.0, 175.0, 176.0, 177.0, 178.0, 180.0, 182.0, 183.0, 185.0, 189.0, 191.0, 192.0, 193.0, 197.0, 200.0, 201.0, 204.0, 205.0, 207.0, 208.0, 209.0, 212.0, 213.0, 214.0, 216.0, 218.0, 219.0, 220.0, 221.0, 222.0, 223.0, 224.0, 225.0, 226.0, 228.0, 230.0, 231.0, 233.0, 234.0, 238.0, 239.0, 301.0, 304.0, 306.0, 307.0, 308.0, 309.0, 310.0, 311.0, 319.0, 320.0, 322.0, 323.0, 324.0, 329.0, 330.0, 331.0, 334.0, 337.0, 340.0, 341.0, 346.0, 347.0, 348.0, 351.0, 353.0, 355.0, 356.0, 357.0, 358.0, 360.0, 364.0, 365.0, 368.0, 369.0, 373.0, 376.0, 377.0, 379.0, 381.0, 385.0, 388.0, 395.0, 396.0, 397.0, 401.0, 402.0, 404.0, 405.0, 409.0, 411.0, 413.0, 414.0, 415.0, 416.0, 417.0, 418.0, 421.0, 423.0, 424.0, 425.0, 427.0, 428.0, 430.0, 431.0, 437.0, 438.0, 439.0, 440.0, 442.0, 443.0, 444.0, 445.0, 446.0, 447.0, 448.0, 451.0, 453.0, 457.0, 458.0, 459.0, 462.0, 463.0, 464.0, 466.0, 467.0, 469.0, 470.0, 473.0, 475.0, 479.0]\n",
      "----------------------\n",
      "Number of students who didn't take both courses are :  211\n"
     ]
    }
   ],
   "source": [
    "#Students who haven't taken both 1 and 3\n",
    "not_taken_both = []\n",
    "for x in not_taken_1:\n",
    "    if x in not_taken_3:\n",
    "        not_taken_both.append(x)\n",
    "\n",
    "print(\"Students who didn't take course1 and course3 are : \", not_taken_both)\n",
    "print(\"----------------------\")\n",
    "print(\"Number of students who didn't take both courses are : \", len(not_taken_both))"
   ]
  },
  {
   "cell_type": "markdown",
   "metadata": {},
   "source": [
    "### Dealing with null values"
   ]
  },
  {
   "cell_type": "code",
   "execution_count": 23,
   "metadata": {},
   "outputs": [
    {
     "name": "stdout",
     "output_type": "stream",
     "text": [
      "(187, 4)\n",
      "(120, 4)\n"
     ]
    },
    {
     "name": "stderr",
     "output_type": "stream",
     "text": [
      "C:\\Users\\Ravi Sreedhar\\Anaconda3\\lib\\site-packages\\ipykernel_launcher.py:1: SettingWithCopyWarning: \n",
      "A value is trying to be set on a copy of a slice from a DataFrame\n",
      "\n",
      "See the caveats in the documentation: http://pandas.pydata.org/pandas-docs/stable/indexing.html#indexing-view-versus-copy\n",
      "  \"\"\"Entry point for launching an IPython kernel.\n",
      "C:\\Users\\Ravi Sreedhar\\Anaconda3\\lib\\site-packages\\ipykernel_launcher.py:2: SettingWithCopyWarning: \n",
      "A value is trying to be set on a copy of a slice from a DataFrame\n",
      "\n",
      "See the caveats in the documentation: http://pandas.pydata.org/pandas-docs/stable/indexing.html#indexing-view-versus-copy\n",
      "  \n"
     ]
    }
   ],
   "source": [
    "course1.dropna(inplace=True)\n",
    "course3.dropna(inplace=True)\n",
    "print(course1.shape)\n",
    "print(course3.shape)"
   ]
  },
  {
   "cell_type": "markdown",
   "metadata": {},
   "source": [
    "## Metrics to evaluate courses\n",
    "## Marks of the Assignment is considered as passing conditions!! 0.40 and above is passing"
   ]
  },
  {
   "cell_type": "code",
   "execution_count": 43,
   "metadata": {},
   "outputs": [
    {
     "data": {
      "text/plain": [
       "Text(0.5, 1.0, 'Course1')"
      ]
     },
     "execution_count": 43,
     "metadata": {},
     "output_type": "execute_result"
    },
    {
     "data": {
      "image/png": "[encoded data removed]",
      "text/plain": [
       "<Figure size 432x288 with 1 Axes>"
      ]
     },
     "metadata": {
      "needs_background": "light"
     },
     "output_type": "display_data"
    }
   ],
   "source": [
    "#Eda\n",
    "sns.scatterplot(y='Marks_Assgnmt1',x=course1.index,data=course1).set_title(\"Course1\") #Course1"
   ]
  },
  {
   "cell_type": "code",
   "execution_count": 44,
   "metadata": {},
   "outputs": [
    {
     "data": {
      "text/plain": [
       "Text(0.5, 1.0, 'Course2')"
      ]
     },
     "execution_count": 44,
     "metadata": {},
     "output_type": "execute_result"
    },
    {
     "data": {
      "image/png": "[encoded data removed]",
      "text/plain": [
       "<Figure size 432x288 with 1 Axes>"
      ]
     },
     "metadata": {
      "needs_background": "light"
     },
     "output_type": "display_data"
    }
   ],
   "source": [
    "sns.scatterplot(y='Marks_Assgnmt1.1',x=course2.index,data=course2).set_title(\"Course2\") #Course2"
   ]
  },
  {
   "cell_type": "code",
   "execution_count": 45,
   "metadata": {},
   "outputs": [
    {
     "data": {
      "text/plain": [
       "Text(0.5, 1.0, 'Course3')"
      ]
     },
     "execution_count": 45,
     "metadata": {},
     "output_type": "execute_result"
    },
    {
     "data": {
      "image/png": "[encoded data removed]",
      "text/plain": [
       "<Figure size 432x288 with 1 Axes>"
      ]
     },
     "metadata": {
      "needs_background": "light"
     },
     "output_type": "display_data"
    }
   ],
   "source": [
    "sns.scatterplot(y='Marks_Assgnmt1.2',x=course3.index,data=course3).set_title(\"Course3\") #Course3\n",
    "#natural cluster formed"
   ]
  },
  {
   "cell_type": "code",
   "execution_count": 47,
   "metadata": {},
   "outputs": [
    {
     "data": {
      "text/html": [
       "<div>\n",
       "<style scoped>\n",
       "    .dataframe tbody tr th:only-of-type {\n",
       "        vertical-align: middle;\n",
       "    }\n",
       "\n",
       "    .dataframe tbody tr th {\n",
       "        vertical-align: top;\n",
       "    }\n",
       "\n",
       "    .dataframe thead th {\n",
       "        text-align: right;\n",
       "    }\n",
       "</style>\n",
       "<table border=\"1\" class=\"dataframe\">\n",
       "  <thead>\n",
       "    <tr style=\"text-align: right;\">\n",
       "      <th></th>\n",
       "      <th>Video_Access</th>\n",
       "      <th>Practice_Problem_Access</th>\n",
       "      <th>Forum_Access</th>\n",
       "      <th>Marks_Assgnmt1</th>\n",
       "    </tr>\n",
       "  </thead>\n",
       "  <tbody>\n",
       "    <tr>\n",
       "      <th>Video_Access</th>\n",
       "      <td>1.000000</td>\n",
       "      <td>0.086618</td>\n",
       "      <td>-0.000287</td>\n",
       "      <td>-0.068181</td>\n",
       "    </tr>\n",
       "    <tr>\n",
       "      <th>Practice_Problem_Access</th>\n",
       "      <td>0.086618</td>\n",
       "      <td>1.000000</td>\n",
       "      <td>0.087322</td>\n",
       "      <td>-0.019752</td>\n",
       "    </tr>\n",
       "    <tr>\n",
       "      <th>Forum_Access</th>\n",
       "      <td>-0.000287</td>\n",
       "      <td>0.087322</td>\n",
       "      <td>1.000000</td>\n",
       "      <td>-0.071785</td>\n",
       "    </tr>\n",
       "    <tr>\n",
       "      <th>Marks_Assgnmt1</th>\n",
       "      <td>-0.068181</td>\n",
       "      <td>-0.019752</td>\n",
       "      <td>-0.071785</td>\n",
       "      <td>1.000000</td>\n",
       "    </tr>\n",
       "  </tbody>\n",
       "</table>\n",
       "</div>"
      ],
      "text/plain": [
       "                         Video_Access  Practice_Problem_Access  Forum_Access  \\\n",
       "Video_Access                 1.000000                 0.086618     -0.000287   \n",
       "Practice_Problem_Access      0.086618                 1.000000      0.087322   \n",
       "Forum_Access                -0.000287                 0.087322      1.000000   \n",
       "Marks_Assgnmt1              -0.068181                -0.019752     -0.071785   \n",
       "\n",
       "                         Marks_Assgnmt1  \n",
       "Video_Access                  -0.068181  \n",
       "Practice_Problem_Access       -0.019752  \n",
       "Forum_Access                  -0.071785  \n",
       "Marks_Assgnmt1                 1.000000  "
      ]
     },
     "execution_count": 47,
     "metadata": {},
     "output_type": "execute_result"
    }
   ],
   "source": [
    "course1.corr()"
   ]
  },
  {
   "cell_type": "code",
   "execution_count": 48,
   "metadata": {},
   "outputs": [
    {
     "data": {
      "text/html": [
       "<div>\n",
       "<style scoped>\n",
       "    .dataframe tbody tr th:only-of-type {\n",
       "        vertical-align: middle;\n",
       "    }\n",
       "\n",
       "    .dataframe tbody tr th {\n",
       "        vertical-align: top;\n",
       "    }\n",
       "\n",
       "    .dataframe thead th {\n",
       "        text-align: right;\n",
       "    }\n",
       "</style>\n",
       "<table border=\"1\" class=\"dataframe\">\n",
       "  <thead>\n",
       "    <tr style=\"text-align: right;\">\n",
       "      <th></th>\n",
       "      <th>Video_Access.1</th>\n",
       "      <th>Practice_Problem_Access.1</th>\n",
       "      <th>Forum_Access.1</th>\n",
       "      <th>Marks_Assgnmt1.1</th>\n",
       "    </tr>\n",
       "  </thead>\n",
       "  <tbody>\n",
       "    <tr>\n",
       "      <th>Video_Access.1</th>\n",
       "      <td>1.000000</td>\n",
       "      <td>-0.039696</td>\n",
       "      <td>0.034821</td>\n",
       "      <td>-0.092737</td>\n",
       "    </tr>\n",
       "    <tr>\n",
       "      <th>Practice_Problem_Access.1</th>\n",
       "      <td>-0.039696</td>\n",
       "      <td>1.000000</td>\n",
       "      <td>0.025992</td>\n",
       "      <td>0.083503</td>\n",
       "    </tr>\n",
       "    <tr>\n",
       "      <th>Forum_Access.1</th>\n",
       "      <td>0.034821</td>\n",
       "      <td>0.025992</td>\n",
       "      <td>1.000000</td>\n",
       "      <td>-0.012768</td>\n",
       "    </tr>\n",
       "    <tr>\n",
       "      <th>Marks_Assgnmt1.1</th>\n",
       "      <td>-0.092737</td>\n",
       "      <td>0.083503</td>\n",
       "      <td>-0.012768</td>\n",
       "      <td>1.000000</td>\n",
       "    </tr>\n",
       "  </tbody>\n",
       "</table>\n",
       "</div>"
      ],
      "text/plain": [
       "                           Video_Access.1  Practice_Problem_Access.1  \\\n",
       "Video_Access.1                   1.000000                  -0.039696   \n",
       "Practice_Problem_Access.1       -0.039696                   1.000000   \n",
       "Forum_Access.1                   0.034821                   0.025992   \n",
       "Marks_Assgnmt1.1                -0.092737                   0.083503   \n",
       "\n",
       "                           Forum_Access.1  Marks_Assgnmt1.1  \n",
       "Video_Access.1                   0.034821         -0.092737  \n",
       "Practice_Problem_Access.1        0.025992          0.083503  \n",
       "Forum_Access.1                   1.000000         -0.012768  \n",
       "Marks_Assgnmt1.1                -0.012768          1.000000  "
      ]
     },
     "execution_count": 48,
     "metadata": {},
     "output_type": "execute_result"
    }
   ],
   "source": [
    "course2.corr()"
   ]
  },
  {
   "cell_type": "code",
   "execution_count": 49,
   "metadata": {},
   "outputs": [
    {
     "data": {
      "text/html": [
       "<div>\n",
       "<style scoped>\n",
       "    .dataframe tbody tr th:only-of-type {\n",
       "        vertical-align: middle;\n",
       "    }\n",
       "\n",
       "    .dataframe tbody tr th {\n",
       "        vertical-align: top;\n",
       "    }\n",
       "\n",
       "    .dataframe thead th {\n",
       "        text-align: right;\n",
       "    }\n",
       "</style>\n",
       "<table border=\"1\" class=\"dataframe\">\n",
       "  <thead>\n",
       "    <tr style=\"text-align: right;\">\n",
       "      <th></th>\n",
       "      <th>Video_Access.2</th>\n",
       "      <th>Practice_Problem_Access.2</th>\n",
       "      <th>Forum_Access.2</th>\n",
       "      <th>Marks_Assgnmt1.2</th>\n",
       "    </tr>\n",
       "  </thead>\n",
       "  <tbody>\n",
       "    <tr>\n",
       "      <th>Video_Access.2</th>\n",
       "      <td>1.000000</td>\n",
       "      <td>0.044332</td>\n",
       "      <td>-0.074846</td>\n",
       "      <td>0.081562</td>\n",
       "    </tr>\n",
       "    <tr>\n",
       "      <th>Practice_Problem_Access.2</th>\n",
       "      <td>0.044332</td>\n",
       "      <td>1.000000</td>\n",
       "      <td>-0.051198</td>\n",
       "      <td>-0.005499</td>\n",
       "    </tr>\n",
       "    <tr>\n",
       "      <th>Forum_Access.2</th>\n",
       "      <td>-0.074846</td>\n",
       "      <td>-0.051198</td>\n",
       "      <td>1.000000</td>\n",
       "      <td>0.054388</td>\n",
       "    </tr>\n",
       "    <tr>\n",
       "      <th>Marks_Assgnmt1.2</th>\n",
       "      <td>0.081562</td>\n",
       "      <td>-0.005499</td>\n",
       "      <td>0.054388</td>\n",
       "      <td>1.000000</td>\n",
       "    </tr>\n",
       "  </tbody>\n",
       "</table>\n",
       "</div>"
      ],
      "text/plain": [
       "                           Video_Access.2  Practice_Problem_Access.2  \\\n",
       "Video_Access.2                   1.000000                   0.044332   \n",
       "Practice_Problem_Access.2        0.044332                   1.000000   \n",
       "Forum_Access.2                  -0.074846                  -0.051198   \n",
       "Marks_Assgnmt1.2                 0.081562                  -0.005499   \n",
       "\n",
       "                           Forum_Access.2  Marks_Assgnmt1.2  \n",
       "Video_Access.2                  -0.074846          0.081562  \n",
       "Practice_Problem_Access.2       -0.051198         -0.005499  \n",
       "Forum_Access.2                   1.000000          0.054388  \n",
       "Marks_Assgnmt1.2                 0.054388          1.000000  "
      ]
     },
     "execution_count": 49,
     "metadata": {},
     "output_type": "execute_result"
    }
   ],
   "source": [
    "course3.corr()"
   ]
  },
  {
   "cell_type": "code",
   "execution_count": 51,
   "metadata": {},
   "outputs": [
    {
     "ename": "SyntaxError",
     "evalue": "invalid syntax (<ipython-input-51-6f1b2c8ad4b7>, line 1)",
     "output_type": "error",
     "traceback": [
      "\u001b[1;36m  File \u001b[1;32m\"<ipython-input-51-6f1b2c8ad4b7>\"\u001b[1;36m, line \u001b[1;32m1\u001b[0m\n\u001b[1;33m    def check_pass_fail(a)\u001b[0m\n\u001b[1;37m                          ^\u001b[0m\n\u001b[1;31mSyntaxError\u001b[0m\u001b[1;31m:\u001b[0m invalid syntax\n"
     ]
    }
   ],
   "source": [
    "def check_pass_fail(a)\n",
    "if a>0.4:\n",
    "    return 1\n",
    "\n",
    "course1['Pass'] = course1['Marks_Assgnmt1'].apply(check_pass_fail)\n",
    "course1"
   ]
  },
  {
   "cell_type": "markdown",
   "metadata": {},
   "source": [
    "## Further steps to proceed\n",
    "- create class for pass\n",
    "- run logistic regression and check accuracy\n",
    "- retrieve coefficients for logistic regression\n",
    "- check pass percentage of predicted value"
   ]
  }
 ],
 "metadata": {
  "kernelspec": {
   "display_name": "Python 3",
   "language": "python",
   "name": "python3"
  },
  "language_info": {
   "codemirror_mode": {
    "name": "ipython",
    "version": 3
   },
   "file_extension": ".py",
   "mimetype": "text/x-python",
   "name": "python",
   "nbconvert_exporter": "python",
   "pygments_lexer": "ipython3",
   "version": "3.7.1"
  }
 },
 "nbformat": 4,
 "nbformat_minor": 2
}
