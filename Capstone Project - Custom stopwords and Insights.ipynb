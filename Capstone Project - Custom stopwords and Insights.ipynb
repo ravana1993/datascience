{
 "cells": [
  {
   "cell_type": "markdown",
   "metadata": {
    "colab_type": "text",
    "id": "V02qV3Y5_SMm"
   },
   "source": [
    "# Project7 – Product review analytics using text classification\n",
    "## Custom Stopwords\n",
    "## Actionable insights from N Gram"
   ]
  },
  {
   "cell_type": "code",
   "execution_count": 1,
   "metadata": {
    "colab": {},
    "colab_type": "code",
    "id": "2EUlFr2Z_SMs",
    "outputId": "913821e4-af44-4fee-97b3-26e15794757b"
   },
   "outputs": [
    {
     "data": {
      "text/html": [
       "<div>\n",
       "<style scoped>\n",
       "    .dataframe tbody tr th:only-of-type {\n",
       "        vertical-align: middle;\n",
       "    }\n",
       "\n",
       "    .dataframe tbody tr th {\n",
       "        vertical-align: top;\n",
       "    }\n",
       "\n",
       "    .dataframe thead th {\n",
       "        text-align: right;\n",
       "    }\n",
       "</style>\n",
       "<table border=\"1\" class=\"dataframe\">\n",
       "  <thead>\n",
       "    <tr style=\"text-align: right;\">\n",
       "      <th></th>\n",
       "      <th>Review_class</th>\n",
       "      <th>review_text</th>\n",
       "    </tr>\n",
       "  </thead>\n",
       "  <tbody>\n",
       "    <tr>\n",
       "      <th>0</th>\n",
       "      <td>Positive</td>\n",
       "      <td>This sound track was beautiful! It paints the ...</td>\n",
       "    </tr>\n",
       "    <tr>\n",
       "      <th>1</th>\n",
       "      <td>Positive</td>\n",
       "      <td>I'm reading a lot of reviews saying that this ...</td>\n",
       "    </tr>\n",
       "    <tr>\n",
       "      <th>2</th>\n",
       "      <td>Positive</td>\n",
       "      <td>This soundtrack is my favorite music of all ti...</td>\n",
       "    </tr>\n",
       "    <tr>\n",
       "      <th>3</th>\n",
       "      <td>Positive</td>\n",
       "      <td>I truly like this soundtrack and I enjoy video...</td>\n",
       "    </tr>\n",
       "    <tr>\n",
       "      <th>4</th>\n",
       "      <td>Positive</td>\n",
       "      <td>If you've played the game, you know how divine...</td>\n",
       "    </tr>\n",
       "  </tbody>\n",
       "</table>\n",
       "</div>"
      ],
      "text/plain": [
       "  Review_class                                        review_text\n",
       "0     Positive  This sound track was beautiful! It paints the ...\n",
       "1     Positive  I'm reading a lot of reviews saying that this ...\n",
       "2     Positive  This soundtrack is my favorite music of all ti...\n",
       "3     Positive  I truly like this soundtrack and I enjoy video...\n",
       "4     Positive  If you've played the game, you know how divine..."
      ]
     },
     "execution_count": 1,
     "metadata": {},
     "output_type": "execute_result"
    }
   ],
   "source": [
    "import pandas as pd\n",
    "\n",
    "review = pd.read_csv('reviews1.csv')\n",
    "review.head()"
   ]
  },
  {
   "cell_type": "code",
   "execution_count": 2,
   "metadata": {
    "colab": {},
    "colab_type": "code",
    "id": "ihkY3LAP_SM2"
   },
   "outputs": [
    {
     "data": {
      "text/plain": [
       "(20000, 2)"
      ]
     },
     "execution_count": 2,
     "metadata": {},
     "output_type": "execute_result"
    }
   ],
   "source": [
    "review.shape"
   ]
  },
  {
   "cell_type": "markdown",
   "metadata": {},
   "source": [
    "# EDA"
   ]
  },
  {
   "cell_type": "code",
   "execution_count": 3,
   "metadata": {},
   "outputs": [
    {
     "data": {
      "text/plain": [
       "Review_class    0\n",
       "review_text     0\n",
       "dtype: int64"
      ]
     },
     "execution_count": 3,
     "metadata": {},
     "output_type": "execute_result"
    }
   ],
   "source": [
    "review.isnull().sum()"
   ]
  },
  {
   "cell_type": "code",
   "execution_count": 4,
   "metadata": {},
   "outputs": [],
   "source": [
    "review.dropna(inplace=True)"
   ]
  },
  {
   "cell_type": "code",
   "execution_count": 5,
   "metadata": {},
   "outputs": [
    {
     "data": {
      "text/plain": [
       "Positive    10257\n",
       "Negative     9743\n",
       "Name: Review_class, dtype: int64"
      ]
     },
     "execution_count": 5,
     "metadata": {},
     "output_type": "execute_result"
    }
   ],
   "source": [
    "review['Review_class'].value_counts()"
   ]
  },
  {
   "cell_type": "code",
   "execution_count": 6,
   "metadata": {
    "scrolled": true
   },
   "outputs": [
    {
     "name": "stdout",
     "output_type": "stream",
     "text": [
      "<class 'pandas.core.frame.DataFrame'>\n",
      "Int64Index: 20000 entries, 0 to 19999\n",
      "Data columns (total 2 columns):\n",
      "Review_class    20000 non-null object\n",
      "review_text     20000 non-null object\n",
      "dtypes: object(2)\n",
      "memory usage: 468.8+ KB\n"
     ]
    }
   ],
   "source": [
    "review.info()"
   ]
  },
  {
   "cell_type": "code",
   "execution_count": 7,
   "metadata": {},
   "outputs": [],
   "source": [
    "import matplotlib.pyplot as plt\n",
    "import seaborn as sns"
   ]
  },
  {
   "cell_type": "code",
   "execution_count": 8,
   "metadata": {},
   "outputs": [
    {
     "data": {
      "image/png": "[encoded data removed]",
      "text/plain": [
       "<Figure size 432x288 with 1 Axes>"
      ]
     },
     "metadata": {
      "needs_background": "light"
     },
     "output_type": "display_data"
    }
   ],
   "source": [
    "sns.countplot(review['Review_class'])\n",
    "plt.show()"
   ]
  },
  {
   "cell_type": "markdown",
   "metadata": {},
   "source": [
    "### Word cloud of positive reviews"
   ]
  },
  {
   "cell_type": "code",
   "execution_count": 9,
   "metadata": {},
   "outputs": [
    {
     "data": {
      "text/plain": [
       "<matplotlib.image.AxesImage at 0x266bf38b748>"
      ]
     },
     "execution_count": 9,
     "metadata": {},
     "output_type": "execute_result"
    },
    {
     "data": {
      "image/png": "[encoded data removed]",
      "text/plain": [
       "<Figure size 720x432 with 1 Axes>"
      ]
     },
     "metadata": {
      "needs_background": "light"
     },
     "output_type": "display_data"
    }
   ],
   "source": [
    "from wordcloud import WordCloud\n",
    "import matplotlib.pyplot as plt\n",
    "%matplotlib inline\n",
    "\n",
    "wc = WordCloud(background_color='WHITE').generate(' '.join(review[review['Review_class']=='Positive']['review_text']))\n",
    "plt.figure(figsize=(10,6))\n",
    "plt.imshow(wc)"
   ]
  },
  {
   "cell_type": "markdown",
   "metadata": {},
   "source": [
    "### Word cloud of negative reviews"
   ]
  },
  {
   "cell_type": "code",
   "execution_count": 10,
   "metadata": {
    "scrolled": true
   },
   "outputs": [
    {
     "data": {
      "text/plain": [
       "<matplotlib.image.AxesImage at 0x266bf2d5240>"
      ]
     },
     "execution_count": 10,
     "metadata": {},
     "output_type": "execute_result"
    },
    {
     "data": {
      "image/png": "[encoded data removed]",
      "text/plain": [
       "<Figure size 720x432 with 1 Axes>"
      ]
     },
     "metadata": {
      "needs_background": "light"
     },
     "output_type": "display_data"
    }
   ],
   "source": [
    "wc = WordCloud(background_color='BLACK').generate(' '.join(review[review['Review_class']=='Negative']['review_text']))\n",
    "plt.figure(figsize=(10,6))\n",
    "plt.imshow(wc)"
   ]
  },
  {
   "cell_type": "markdown",
   "metadata": {},
   "source": [
    "## Custom Stopwords"
   ]
  },
  {
   "cell_type": "code",
   "execution_count": 11,
   "metadata": {},
   "outputs": [],
   "source": [
    "from nltk import word_tokenize\n",
    "from nltk.util import ngrams\n",
    "from collections import Counter"
   ]
  },
  {
   "cell_type": "code",
   "execution_count": 12,
   "metadata": {},
   "outputs": [],
   "source": [
    "token = word_tokenize(''.join(review['review_text']))                         "
   ]
  },
  {
   "cell_type": "code",
   "execution_count": 13,
   "metadata": {},
   "outputs": [],
   "source": [
    "c = Counter(token)"
   ]
  },
  {
   "cell_type": "code",
   "execution_count": 14,
   "metadata": {},
   "outputs": [
    {
     "data": {
      "text/plain": [
       "9591"
      ]
     },
     "execution_count": 14,
     "metadata": {},
     "output_type": "execute_result"
    }
   ],
   "source": [
    "c[\"n't\"]"
   ]
  },
  {
   "cell_type": "code",
   "execution_count": 15,
   "metadata": {},
   "outputs": [],
   "source": [
    "import nltk\n",
    "from nltk.corpus import stopwords\n",
    "stopwords = nltk.corpus.stopwords.words('english')"
   ]
  },
  {
   "cell_type": "code",
   "execution_count": 16,
   "metadata": {},
   "outputs": [
    {
     "data": {
      "text/plain": [
       "['i',\n",
       " 'me',\n",
       " 'my',\n",
       " 'myself',\n",
       " 'we',\n",
       " 'our',\n",
       " 'ours',\n",
       " 'ourselves',\n",
       " 'you',\n",
       " \"you're\",\n",
       " \"you've\",\n",
       " \"you'll\",\n",
       " \"you'd\",\n",
       " 'your',\n",
       " 'yours',\n",
       " 'yourself',\n",
       " 'yourselves',\n",
       " 'he',\n",
       " 'him',\n",
       " 'his',\n",
       " 'himself',\n",
       " 'she',\n",
       " \"she's\",\n",
       " 'her',\n",
       " 'hers',\n",
       " 'herself',\n",
       " 'it',\n",
       " \"it's\",\n",
       " 'its',\n",
       " 'itself',\n",
       " 'they',\n",
       " 'them',\n",
       " 'their',\n",
       " 'theirs',\n",
       " 'themselves',\n",
       " 'what',\n",
       " 'which',\n",
       " 'who',\n",
       " 'whom',\n",
       " 'this',\n",
       " 'that',\n",
       " \"that'll\",\n",
       " 'these',\n",
       " 'those',\n",
       " 'am',\n",
       " 'is',\n",
       " 'are',\n",
       " 'was',\n",
       " 'were',\n",
       " 'be',\n",
       " 'been',\n",
       " 'being',\n",
       " 'have',\n",
       " 'has',\n",
       " 'had',\n",
       " 'having',\n",
       " 'do',\n",
       " 'does',\n",
       " 'did',\n",
       " 'doing',\n",
       " 'a',\n",
       " 'an',\n",
       " 'the',\n",
       " 'and',\n",
       " 'but',\n",
       " 'if',\n",
       " 'or',\n",
       " 'because',\n",
       " 'as',\n",
       " 'until',\n",
       " 'while',\n",
       " 'of',\n",
       " 'at',\n",
       " 'by',\n",
       " 'for',\n",
       " 'with',\n",
       " 'about',\n",
       " 'against',\n",
       " 'between',\n",
       " 'into',\n",
       " 'through',\n",
       " 'during',\n",
       " 'before',\n",
       " 'after',\n",
       " 'above',\n",
       " 'below',\n",
       " 'to',\n",
       " 'from',\n",
       " 'up',\n",
       " 'down',\n",
       " 'in',\n",
       " 'out',\n",
       " 'on',\n",
       " 'off',\n",
       " 'over',\n",
       " 'under',\n",
       " 'again',\n",
       " 'further',\n",
       " 'then',\n",
       " 'once',\n",
       " 'here',\n",
       " 'there',\n",
       " 'when',\n",
       " 'where',\n",
       " 'why',\n",
       " 'how',\n",
       " 'all',\n",
       " 'any',\n",
       " 'both',\n",
       " 'each',\n",
       " 'few',\n",
       " 'more',\n",
       " 'most',\n",
       " 'other',\n",
       " 'some',\n",
       " 'such',\n",
       " 'no',\n",
       " 'nor',\n",
       " 'not',\n",
       " 'only',\n",
       " 'own',\n",
       " 'same',\n",
       " 'so',\n",
       " 'than',\n",
       " 'too',\n",
       " 'very',\n",
       " 's',\n",
       " 't',\n",
       " 'can',\n",
       " 'will',\n",
       " 'just',\n",
       " 'don',\n",
       " \"don't\",\n",
       " 'should',\n",
       " \"should've\",\n",
       " 'now',\n",
       " 'd',\n",
       " 'll',\n",
       " 'm',\n",
       " 'o',\n",
       " 're',\n",
       " 've',\n",
       " 'y',\n",
       " 'ain',\n",
       " 'aren',\n",
       " \"aren't\",\n",
       " 'couldn',\n",
       " \"couldn't\",\n",
       " 'didn',\n",
       " \"didn't\",\n",
       " 'doesn',\n",
       " \"doesn't\",\n",
       " 'hadn',\n",
       " \"hadn't\",\n",
       " 'hasn',\n",
       " \"hasn't\",\n",
       " 'haven',\n",
       " \"haven't\",\n",
       " 'isn',\n",
       " \"isn't\",\n",
       " 'ma',\n",
       " 'mightn',\n",
       " \"mightn't\",\n",
       " 'mustn',\n",
       " \"mustn't\",\n",
       " 'needn',\n",
       " \"needn't\",\n",
       " 'shan',\n",
       " \"shan't\",\n",
       " 'shouldn',\n",
       " \"shouldn't\",\n",
       " 'wasn',\n",
       " \"wasn't\",\n",
       " 'weren',\n",
       " \"weren't\",\n",
       " 'won',\n",
       " \"won't\",\n",
       " 'wouldn',\n",
       " \"wouldn't\"]"
      ]
     },
     "execution_count": 16,
     "metadata": {},
     "output_type": "execute_result"
    }
   ],
   "source": [
    "stopwords"
   ]
  },
  {
   "cell_type": "code",
   "execution_count": 17,
   "metadata": {},
   "outputs": [],
   "source": [
    "stopwords_token = word_tokenize(' '.join(stopwords))\n",
    "stopwords_count = Counter(stopwords_token)"
   ]
  },
  {
   "cell_type": "code",
   "execution_count": 18,
   "metadata": {},
   "outputs": [
    {
     "data": {
      "text/plain": [
       "Counter({'i': 1,\n",
       "         'me': 1,\n",
       "         'my': 1,\n",
       "         'myself': 1,\n",
       "         'we': 1,\n",
       "         'our': 1,\n",
       "         'ours': 1,\n",
       "         'ourselves': 1,\n",
       "         'you': 5,\n",
       "         \"'re\": 1,\n",
       "         \"'ve\": 2,\n",
       "         \"'ll\": 2,\n",
       "         \"'d\": 1,\n",
       "         'your': 1,\n",
       "         'yours': 1,\n",
       "         'yourself': 1,\n",
       "         'yourselves': 1,\n",
       "         'he': 1,\n",
       "         'him': 1,\n",
       "         'his': 1,\n",
       "         'himself': 1,\n",
       "         'she': 2,\n",
       "         \"'s\": 2,\n",
       "         'her': 1,\n",
       "         'hers': 1,\n",
       "         'herself': 1,\n",
       "         'it': 2,\n",
       "         'its': 1,\n",
       "         'itself': 1,\n",
       "         'they': 1,\n",
       "         'them': 1,\n",
       "         'their': 1,\n",
       "         'theirs': 1,\n",
       "         'themselves': 1,\n",
       "         'what': 1,\n",
       "         'which': 1,\n",
       "         'who': 1,\n",
       "         'whom': 1,\n",
       "         'this': 1,\n",
       "         'that': 2,\n",
       "         'these': 1,\n",
       "         'those': 1,\n",
       "         'am': 1,\n",
       "         'is': 2,\n",
       "         'are': 2,\n",
       "         'was': 2,\n",
       "         'were': 2,\n",
       "         'be': 1,\n",
       "         'been': 1,\n",
       "         'being': 1,\n",
       "         'have': 2,\n",
       "         'has': 2,\n",
       "         'had': 2,\n",
       "         'having': 1,\n",
       "         'do': 2,\n",
       "         'does': 2,\n",
       "         'did': 2,\n",
       "         'doing': 1,\n",
       "         'a': 1,\n",
       "         'an': 1,\n",
       "         'the': 1,\n",
       "         'and': 1,\n",
       "         'but': 1,\n",
       "         'if': 1,\n",
       "         'or': 1,\n",
       "         'because': 1,\n",
       "         'as': 1,\n",
       "         'until': 1,\n",
       "         'while': 1,\n",
       "         'of': 1,\n",
       "         'at': 1,\n",
       "         'by': 1,\n",
       "         'for': 1,\n",
       "         'with': 1,\n",
       "         'about': 1,\n",
       "         'against': 1,\n",
       "         'between': 1,\n",
       "         'into': 1,\n",
       "         'through': 1,\n",
       "         'during': 1,\n",
       "         'before': 1,\n",
       "         'after': 1,\n",
       "         'above': 1,\n",
       "         'below': 1,\n",
       "         'to': 1,\n",
       "         'from': 1,\n",
       "         'up': 1,\n",
       "         'down': 1,\n",
       "         'in': 1,\n",
       "         'out': 1,\n",
       "         'on': 1,\n",
       "         'off': 1,\n",
       "         'over': 1,\n",
       "         'under': 1,\n",
       "         'again': 1,\n",
       "         'further': 1,\n",
       "         'then': 1,\n",
       "         'once': 1,\n",
       "         'here': 1,\n",
       "         'there': 1,\n",
       "         'when': 1,\n",
       "         'where': 1,\n",
       "         'why': 1,\n",
       "         'how': 1,\n",
       "         'all': 1,\n",
       "         'any': 1,\n",
       "         'both': 1,\n",
       "         'each': 1,\n",
       "         'few': 1,\n",
       "         'more': 1,\n",
       "         'most': 1,\n",
       "         'other': 1,\n",
       "         'some': 1,\n",
       "         'such': 1,\n",
       "         'no': 1,\n",
       "         'nor': 1,\n",
       "         'not': 1,\n",
       "         'only': 1,\n",
       "         'own': 1,\n",
       "         'same': 1,\n",
       "         'so': 1,\n",
       "         'than': 1,\n",
       "         'too': 1,\n",
       "         'very': 1,\n",
       "         's': 1,\n",
       "         't': 1,\n",
       "         'can': 1,\n",
       "         'will': 1,\n",
       "         'just': 1,\n",
       "         'don': 1,\n",
       "         \"n't\": 18,\n",
       "         'should': 3,\n",
       "         'now': 1,\n",
       "         'd': 1,\n",
       "         'll': 1,\n",
       "         'm': 1,\n",
       "         'o': 1,\n",
       "         're': 1,\n",
       "         've': 1,\n",
       "         'y': 1,\n",
       "         'ain': 1,\n",
       "         'aren': 1,\n",
       "         'couldn': 1,\n",
       "         'could': 1,\n",
       "         'didn': 1,\n",
       "         'doesn': 1,\n",
       "         'hadn': 1,\n",
       "         'hasn': 1,\n",
       "         'haven': 1,\n",
       "         'isn': 1,\n",
       "         'ma': 1,\n",
       "         'mightn': 1,\n",
       "         'might': 1,\n",
       "         'mustn': 1,\n",
       "         'must': 1,\n",
       "         'needn': 1,\n",
       "         'need': 1,\n",
       "         'shan': 1,\n",
       "         'sha': 1,\n",
       "         'shouldn': 1,\n",
       "         'wasn': 1,\n",
       "         'weren': 1,\n",
       "         'won': 1,\n",
       "         'wo': 1,\n",
       "         'wouldn': 1,\n",
       "         'would': 1})"
      ]
     },
     "execution_count": 18,
     "metadata": {},
     "output_type": "execute_result"
    }
   ],
   "source": [
    "stopwords_count"
   ]
  },
  {
   "cell_type": "markdown",
   "metadata": {},
   "source": [
    "#### remove \"not\" and \"n't\" from the stopwords list"
   ]
  },
  {
   "cell_type": "code",
   "execution_count": 19,
   "metadata": {},
   "outputs": [
    {
     "data": {
      "text/plain": [
       "1"
      ]
     },
     "execution_count": 19,
     "metadata": {},
     "output_type": "execute_result"
    }
   ],
   "source": [
    "stopwords_count.pop(\"n't\")\n",
    "stopwords_count.pop(\"not\")"
   ]
  },
  {
   "cell_type": "markdown",
   "metadata": {},
   "source": [
    "#### form a list of new custom stop words using the keys "
   ]
  },
  {
   "cell_type": "code",
   "execution_count": 20,
   "metadata": {},
   "outputs": [
    {
     "data": {
      "text/plain": [
       "dict_keys(['i', 'me', 'my', 'myself', 'we', 'our', 'ours', 'ourselves', 'you', \"'re\", \"'ve\", \"'ll\", \"'d\", 'your', 'yours', 'yourself', 'yourselves', 'he', 'him', 'his', 'himself', 'she', \"'s\", 'her', 'hers', 'herself', 'it', 'its', 'itself', 'they', 'them', 'their', 'theirs', 'themselves', 'what', 'which', 'who', 'whom', 'this', 'that', 'these', 'those', 'am', 'is', 'are', 'was', 'were', 'be', 'been', 'being', 'have', 'has', 'had', 'having', 'do', 'does', 'did', 'doing', 'a', 'an', 'the', 'and', 'but', 'if', 'or', 'because', 'as', 'until', 'while', 'of', 'at', 'by', 'for', 'with', 'about', 'against', 'between', 'into', 'through', 'during', 'before', 'after', 'above', 'below', 'to', 'from', 'up', 'down', 'in', 'out', 'on', 'off', 'over', 'under', 'again', 'further', 'then', 'once', 'here', 'there', 'when', 'where', 'why', 'how', 'all', 'any', 'both', 'each', 'few', 'more', 'most', 'other', 'some', 'such', 'no', 'nor', 'only', 'own', 'same', 'so', 'than', 'too', 'very', 's', 't', 'can', 'will', 'just', 'don', 'should', 'now', 'd', 'll', 'm', 'o', 're', 've', 'y', 'ain', 'aren', 'couldn', 'could', 'didn', 'doesn', 'hadn', 'hasn', 'haven', 'isn', 'ma', 'mightn', 'might', 'mustn', 'must', 'needn', 'need', 'shan', 'sha', 'shouldn', 'wasn', 'weren', 'won', 'wo', 'wouldn', 'would'])"
      ]
     },
     "execution_count": 20,
     "metadata": {},
     "output_type": "execute_result"
    }
   ],
   "source": [
    "stopwords_count.keys()"
   ]
  },
  {
   "cell_type": "code",
   "execution_count": 21,
   "metadata": {},
   "outputs": [],
   "source": [
    "custom_stop_words_new = list(stopwords_count.keys())"
   ]
  },
  {
   "cell_type": "code",
   "execution_count": 22,
   "metadata": {},
   "outputs": [
    {
     "data": {
      "text/plain": [
       "['i',\n",
       " 'me',\n",
       " 'my',\n",
       " 'myself',\n",
       " 'we',\n",
       " 'our',\n",
       " 'ours',\n",
       " 'ourselves',\n",
       " 'you',\n",
       " \"'re\",\n",
       " \"'ve\",\n",
       " \"'ll\",\n",
       " \"'d\",\n",
       " 'your',\n",
       " 'yours',\n",
       " 'yourself',\n",
       " 'yourselves',\n",
       " 'he',\n",
       " 'him',\n",
       " 'his',\n",
       " 'himself',\n",
       " 'she',\n",
       " \"'s\",\n",
       " 'her',\n",
       " 'hers',\n",
       " 'herself',\n",
       " 'it',\n",
       " 'its',\n",
       " 'itself',\n",
       " 'they',\n",
       " 'them',\n",
       " 'their',\n",
       " 'theirs',\n",
       " 'themselves',\n",
       " 'what',\n",
       " 'which',\n",
       " 'who',\n",
       " 'whom',\n",
       " 'this',\n",
       " 'that',\n",
       " 'these',\n",
       " 'those',\n",
       " 'am',\n",
       " 'is',\n",
       " 'are',\n",
       " 'was',\n",
       " 'were',\n",
       " 'be',\n",
       " 'been',\n",
       " 'being',\n",
       " 'have',\n",
       " 'has',\n",
       " 'had',\n",
       " 'having',\n",
       " 'do',\n",
       " 'does',\n",
       " 'did',\n",
       " 'doing',\n",
       " 'a',\n",
       " 'an',\n",
       " 'the',\n",
       " 'and',\n",
       " 'but',\n",
       " 'if',\n",
       " 'or',\n",
       " 'because',\n",
       " 'as',\n",
       " 'until',\n",
       " 'while',\n",
       " 'of',\n",
       " 'at',\n",
       " 'by',\n",
       " 'for',\n",
       " 'with',\n",
       " 'about',\n",
       " 'against',\n",
       " 'between',\n",
       " 'into',\n",
       " 'through',\n",
       " 'during',\n",
       " 'before',\n",
       " 'after',\n",
       " 'above',\n",
       " 'below',\n",
       " 'to',\n",
       " 'from',\n",
       " 'up',\n",
       " 'down',\n",
       " 'in',\n",
       " 'out',\n",
       " 'on',\n",
       " 'off',\n",
       " 'over',\n",
       " 'under',\n",
       " 'again',\n",
       " 'further',\n",
       " 'then',\n",
       " 'once',\n",
       " 'here',\n",
       " 'there',\n",
       " 'when',\n",
       " 'where',\n",
       " 'why',\n",
       " 'how',\n",
       " 'all',\n",
       " 'any',\n",
       " 'both',\n",
       " 'each',\n",
       " 'few',\n",
       " 'more',\n",
       " 'most',\n",
       " 'other',\n",
       " 'some',\n",
       " 'such',\n",
       " 'no',\n",
       " 'nor',\n",
       " 'only',\n",
       " 'own',\n",
       " 'same',\n",
       " 'so',\n",
       " 'than',\n",
       " 'too',\n",
       " 'very',\n",
       " 's',\n",
       " 't',\n",
       " 'can',\n",
       " 'will',\n",
       " 'just',\n",
       " 'don',\n",
       " 'should',\n",
       " 'now',\n",
       " 'd',\n",
       " 'll',\n",
       " 'm',\n",
       " 'o',\n",
       " 're',\n",
       " 've',\n",
       " 'y',\n",
       " 'ain',\n",
       " 'aren',\n",
       " 'couldn',\n",
       " 'could',\n",
       " 'didn',\n",
       " 'doesn',\n",
       " 'hadn',\n",
       " 'hasn',\n",
       " 'haven',\n",
       " 'isn',\n",
       " 'ma',\n",
       " 'mightn',\n",
       " 'might',\n",
       " 'mustn',\n",
       " 'must',\n",
       " 'needn',\n",
       " 'need',\n",
       " 'shan',\n",
       " 'sha',\n",
       " 'shouldn',\n",
       " 'wasn',\n",
       " 'weren',\n",
       " 'won',\n",
       " 'wo',\n",
       " 'wouldn',\n",
       " 'would']"
      ]
     },
     "execution_count": 22,
     "metadata": {},
     "output_type": "execute_result"
    }
   ],
   "source": [
    "custom_stop_words_new"
   ]
  },
  {
   "cell_type": "markdown",
   "metadata": {},
   "source": [
    "# Document Term Matrix"
   ]
  },
  {
   "cell_type": "code",
   "execution_count": 23,
   "metadata": {},
   "outputs": [
    {
     "data": {
      "text/html": [
       "<div>\n",
       "<style scoped>\n",
       "    .dataframe tbody tr th:only-of-type {\n",
       "        vertical-align: middle;\n",
       "    }\n",
       "\n",
       "    .dataframe tbody tr th {\n",
       "        vertical-align: top;\n",
       "    }\n",
       "\n",
       "    .dataframe thead th {\n",
       "        text-align: right;\n",
       "    }\n",
       "</style>\n",
       "<table border=\"1\" class=\"dataframe\">\n",
       "  <thead>\n",
       "    <tr style=\"text-align: right;\">\n",
       "      <th></th>\n",
       "      <th>Review_class</th>\n",
       "      <th>review_text</th>\n",
       "    </tr>\n",
       "  </thead>\n",
       "  <tbody>\n",
       "    <tr>\n",
       "      <th>0</th>\n",
       "      <td>1</td>\n",
       "      <td>This sound track was beautiful! It paints the ...</td>\n",
       "    </tr>\n",
       "    <tr>\n",
       "      <th>1</th>\n",
       "      <td>1</td>\n",
       "      <td>I'm reading a lot of reviews saying that this ...</td>\n",
       "    </tr>\n",
       "    <tr>\n",
       "      <th>2</th>\n",
       "      <td>1</td>\n",
       "      <td>This soundtrack is my favorite music of all ti...</td>\n",
       "    </tr>\n",
       "    <tr>\n",
       "      <th>3</th>\n",
       "      <td>1</td>\n",
       "      <td>I truly like this soundtrack and I enjoy video...</td>\n",
       "    </tr>\n",
       "    <tr>\n",
       "      <th>4</th>\n",
       "      <td>1</td>\n",
       "      <td>If you've played the game, you know how divine...</td>\n",
       "    </tr>\n",
       "  </tbody>\n",
       "</table>\n",
       "</div>"
      ],
      "text/plain": [
       "   Review_class                                        review_text\n",
       "0             1  This sound track was beautiful! It paints the ...\n",
       "1             1  I'm reading a lot of reviews saying that this ...\n",
       "2             1  This soundtrack is my favorite music of all ti...\n",
       "3             1  I truly like this soundtrack and I enjoy video...\n",
       "4             1  If you've played the game, you know how divine..."
      ]
     },
     "execution_count": 23,
     "metadata": {},
     "output_type": "execute_result"
    }
   ],
   "source": [
    "import nltk\n",
    "from sklearn.feature_extraction.text import CountVectorizer\n",
    "from nltk.corpus import stopwords\n",
    "from nltk.stem import SnowballStemmer\n",
    "\n",
    "review['Review_class']=review.Review_class.map({'Positive':1, 'Negative':0})\n",
    "\n",
    "review.head()"
   ]
  },
  {
   "cell_type": "code",
   "execution_count": 24,
   "metadata": {},
   "outputs": [
    {
     "data": {
      "text/plain": [
       "1    10257\n",
       "0     9743\n",
       "Name: Review_class, dtype: int64"
      ]
     },
     "execution_count": 24,
     "metadata": {},
     "output_type": "execute_result"
    }
   ],
   "source": [
    "review.Review_class.value_counts()"
   ]
  },
  {
   "cell_type": "markdown",
   "metadata": {},
   "source": [
    "### TEXT CLEANING"
   ]
  },
  {
   "cell_type": "code",
   "execution_count": 25,
   "metadata": {},
   "outputs": [],
   "source": [
    "docs=review['review_text'].str.lower()\n",
    "docs=review['review_text'].str.replace('[^a-z ]','')\n",
    "stemmer = nltk.stem.SnowballStemmer('english')"
   ]
  },
  {
   "cell_type": "code",
   "execution_count": 26,
   "metadata": {},
   "outputs": [
    {
     "data": {
      "text/html": [
       "<div>\n",
       "<style scoped>\n",
       "    .dataframe tbody tr th:only-of-type {\n",
       "        vertical-align: middle;\n",
       "    }\n",
       "\n",
       "    .dataframe tbody tr th {\n",
       "        vertical-align: top;\n",
       "    }\n",
       "\n",
       "    .dataframe thead th {\n",
       "        text-align: right;\n",
       "    }\n",
       "</style>\n",
       "<table border=\"1\" class=\"dataframe\">\n",
       "  <thead>\n",
       "    <tr style=\"text-align: right;\">\n",
       "      <th></th>\n",
       "      <th>Review_class</th>\n",
       "      <th>review_text</th>\n",
       "      <th>clean_txt</th>\n",
       "    </tr>\n",
       "  </thead>\n",
       "  <tbody>\n",
       "    <tr>\n",
       "      <th>0</th>\n",
       "      <td>1</td>\n",
       "      <td>This sound track was beautiful! It paints the ...</td>\n",
       "      <td>sound track beauti paint seneri mind well  rec...</td>\n",
       "    </tr>\n",
       "    <tr>\n",
       "      <th>1</th>\n",
       "      <td>1</td>\n",
       "      <td>I'm reading a lot of reviews saying that this ...</td>\n",
       "      <td>read lot review say best game soundtrack  figu...</td>\n",
       "    </tr>\n",
       "    <tr>\n",
       "      <th>2</th>\n",
       "      <td>1</td>\n",
       "      <td>This soundtrack is my favorite music of all ti...</td>\n",
       "      <td>soundtrack favorit music time hand intens sad ...</td>\n",
       "    </tr>\n",
       "    <tr>\n",
       "      <th>3</th>\n",
       "      <td>1</td>\n",
       "      <td>I truly like this soundtrack and I enjoy video...</td>\n",
       "      <td>truli like soundtrack  enjoy video game music...</td>\n",
       "    </tr>\n",
       "    <tr>\n",
       "      <th>4</th>\n",
       "      <td>1</td>\n",
       "      <td>If you've played the game, you know how divine...</td>\n",
       "      <td>f youv play game know divin music singl song t...</td>\n",
       "    </tr>\n",
       "  </tbody>\n",
       "</table>\n",
       "</div>"
      ],
      "text/plain": [
       "   Review_class                                        review_text  \\\n",
       "0             1  This sound track was beautiful! It paints the ...   \n",
       "1             1  I'm reading a lot of reviews saying that this ...   \n",
       "2             1  This soundtrack is my favorite music of all ti...   \n",
       "3             1  I truly like this soundtrack and I enjoy video...   \n",
       "4             1  If you've played the game, you know how divine...   \n",
       "\n",
       "                                           clean_txt  \n",
       "0  sound track beauti paint seneri mind well  rec...  \n",
       "1  read lot review say best game soundtrack  figu...  \n",
       "2  soundtrack favorit music time hand intens sad ...  \n",
       "3   truli like soundtrack  enjoy video game music...  \n",
       "4  f youv play game know divin music singl song t...  "
      ]
     },
     "execution_count": 26,
     "metadata": {},
     "output_type": "execute_result"
    }
   ],
   "source": [
    "def clean_sentence(text):\n",
    "    words = text.split(' ')\n",
    "    clean_words = [stemmer.stem(word) for word in words if word not in custom_stop_words_new]\n",
    "    return ' '.join(clean_words)\n",
    "\n",
    "\n",
    "review['clean_txt'] = docs.apply(clean_sentence)\n",
    "review.head()"
   ]
  },
  {
   "cell_type": "markdown",
   "metadata": {},
   "source": [
    "## Count Vectoriser"
   ]
  },
  {
   "cell_type": "code",
   "execution_count": 27,
   "metadata": {},
   "outputs": [],
   "source": [
    "from sklearn.feature_extraction.text import CountVectorizer\n",
    "from sklearn.model_selection import train_test_split\n",
    "\n",
    "train, validate = train_test_split(review['clean_txt'], test_size=0.3, random_state=100)\n",
    "\n",
    "vectorizer = CountVectorizer(min_df=50)\n",
    "vectorizer.fit(train)\n",
    "\n",
    "train_dtm = vectorizer.transform(train)\n",
    "validate_dtm = vectorizer.transform(validate)"
   ]
  },
  {
   "cell_type": "code",
   "execution_count": 28,
   "metadata": {},
   "outputs": [],
   "source": [
    "train_x = train_dtm\n",
    "validate_x = validate_dtm\n",
    "\n",
    "train_y = review.loc[train.index]['Review_class']\n",
    "validate_y = review.loc[validate.index]['Review_class']"
   ]
  },
  {
   "cell_type": "markdown",
   "metadata": {},
   "source": [
    "## Model Selection"
   ]
  },
  {
   "cell_type": "code",
   "execution_count": 29,
   "metadata": {},
   "outputs": [],
   "source": [
    "from sklearn.tree import DecisionTreeClassifier\n",
    "from sklearn.ensemble import RandomForestClassifier\n",
    "from sklearn.naive_bayes import MultinomialNB\n",
    "from sklearn.linear_model import LogisticRegression\n",
    "from nltk.sentiment.vader import SentimentIntensityAnalyzer\n",
    "from sklearn.metrics import accuracy_score, recall_score, precision_score"
   ]
  },
  {
   "cell_type": "code",
   "execution_count": 30,
   "metadata": {},
   "outputs": [
    {
     "name": "stderr",
     "output_type": "stream",
     "text": [
      "C:\\Users\\Ravi Sreedhar\\Anaconda3\\lib\\site-packages\\sklearn\\ensemble\\forest.py:246: FutureWarning: The default value of n_estimators will change from 10 in version 0.20 to 100 in 0.22.\n",
      "  \"10 in version 0.20 to 100 in 0.22.\", FutureWarning)\n",
      "C:\\Users\\Ravi Sreedhar\\Anaconda3\\lib\\site-packages\\sklearn\\linear_model\\logistic.py:433: FutureWarning: Default solver will be changed to 'lbfgs' in 0.22. Specify a solver to silence this warning.\n",
      "  FutureWarning)\n"
     ]
    }
   ],
   "source": [
    "model_dt = DecisionTreeClassifier()\n",
    "model_dt.fit(train_x , train_y)\n",
    "pred_dt = model_dt.predict(validate_x)\n",
    "accuracy_dt = accuracy_score(validate_y,pred_dt)\n",
    "recall_dt = recall_score(validate_y,pred_dt)\n",
    "precision_dt = precision_score(validate_y,pred_dt)\n",
    "\n",
    "\n",
    "model_rf = RandomForestClassifier()\n",
    "model_rf.fit(train_x , train_y)\n",
    "pred_rf = model_rf.predict(validate_x)\n",
    "accuracy_rf = accuracy_score(validate_y,pred_rf)\n",
    "recall_rf = recall_score(validate_y,pred_rf)\n",
    "precision_rf = precision_score(validate_y,pred_rf)\n",
    "\n",
    "model_nb = MultinomialNB()\n",
    "model_nb.fit(train_x , train_y)\n",
    "pred_nb = model_nb.predict(validate_x)\n",
    "accuracy_nb = accuracy_score(validate_y,pred_nb)\n",
    "recall_nb = recall_score(validate_y,pred_nb)\n",
    "precision_nb = precision_score(validate_y,pred_nb)\n",
    "\n",
    "model_lg = LogisticRegression()\n",
    "model_lg.fit(train_x , train_y)\n",
    "pred_lg = model_lg.predict(validate_x)\n",
    "accuracy_lg = accuracy_score(validate_y,pred_lg)\n",
    "recall_lg = recall_score(validate_y,pred_lg)\n",
    "precision_lg = precision_score(validate_y,pred_lg)"
   ]
  },
  {
   "cell_type": "code",
   "execution_count": 31,
   "metadata": {},
   "outputs": [
    {
     "data": {
      "text/html": [
       "<div>\n",
       "<style scoped>\n",
       "    .dataframe tbody tr th:only-of-type {\n",
       "        vertical-align: middle;\n",
       "    }\n",
       "\n",
       "    .dataframe tbody tr th {\n",
       "        vertical-align: top;\n",
       "    }\n",
       "\n",
       "    .dataframe thead th {\n",
       "        text-align: right;\n",
       "    }\n",
       "</style>\n",
       "<table border=\"1\" class=\"dataframe\">\n",
       "  <thead>\n",
       "    <tr style=\"text-align: right;\">\n",
       "      <th></th>\n",
       "      <th>Method</th>\n",
       "      <th>Accuracy</th>\n",
       "      <th>Recall Score</th>\n",
       "      <th>Precision Score</th>\n",
       "    </tr>\n",
       "  </thead>\n",
       "  <tbody>\n",
       "    <tr>\n",
       "      <th>0</th>\n",
       "      <td>Decision Trees</td>\n",
       "      <td>0.686667</td>\n",
       "      <td>0.703896</td>\n",
       "      <td>0.691327</td>\n",
       "    </tr>\n",
       "    <tr>\n",
       "      <th>1</th>\n",
       "      <td>Random Forest</td>\n",
       "      <td>0.751500</td>\n",
       "      <td>0.717857</td>\n",
       "      <td>0.780445</td>\n",
       "    </tr>\n",
       "    <tr>\n",
       "      <th>2</th>\n",
       "      <td>Multinomial Naive Bayes</td>\n",
       "      <td>0.802333</td>\n",
       "      <td>0.814286</td>\n",
       "      <td>0.803331</td>\n",
       "    </tr>\n",
       "    <tr>\n",
       "      <th>3</th>\n",
       "      <td>Logistic Regression</td>\n",
       "      <td>0.816333</td>\n",
       "      <td>0.833117</td>\n",
       "      <td>0.813570</td>\n",
       "    </tr>\n",
       "  </tbody>\n",
       "</table>\n",
       "</div>"
      ],
      "text/plain": [
       "                    Method  Accuracy  Recall Score  Precision Score\n",
       "0           Decision Trees  0.686667      0.703896         0.691327\n",
       "1            Random Forest  0.751500      0.717857         0.780445\n",
       "2  Multinomial Naive Bayes  0.802333      0.814286         0.803331\n",
       "3      Logistic Regression  0.816333      0.833117         0.813570"
      ]
     },
     "execution_count": 31,
     "metadata": {},
     "output_type": "execute_result"
    }
   ],
   "source": [
    "result = pd.DataFrame({'Method':['Decision Trees','Random Forest','Multinomial Naive Bayes','Logistic Regression'],\n",
    "                       'Accuracy':[accuracy_dt,accuracy_rf,accuracy_nb,accuracy_lg],\n",
    "                       'Recall Score':[recall_dt,recall_rf,recall_nb,recall_lg],\n",
    "                      'Precision Score':[precision_dt,precision_rf,precision_nb,precision_lg]})\n",
    "result"
   ]
  },
  {
   "cell_type": "markdown",
   "metadata": {},
   "source": []
  },
  {
   "cell_type": "code",
   "execution_count": 32,
   "metadata": {},
   "outputs": [],
   "source": [
    "from sklearn.ensemble import AdaBoostClassifier,BaggingClassifier,GradientBoostingClassifier"
   ]
  },
  {
   "cell_type": "code",
   "execution_count": 33,
   "metadata": {},
   "outputs": [],
   "source": [
    "bagg = BaggingClassifier()\n",
    "\n",
    "bagmodel = bagg.fit(train_x,train_y)\n",
    "\n",
    "pred_bag = bagmodel.predict(validate_x)\n",
    "\n",
    "accuracy_bag = accuracy_score(validate_y,pred_bag)\n",
    "recall_bag = recall_score(validate_y,pred_bag)\n",
    "precision_bag = precision_score(validate_y,pred_bag)"
   ]
  },
  {
   "cell_type": "code",
   "execution_count": 34,
   "metadata": {},
   "outputs": [],
   "source": [
    "ada = AdaBoostClassifier()\n",
    "\n",
    "ada.fit(train_x,train_y)\n",
    "\n",
    "pred_ada = ada.predict(validate_x)\n",
    "\n",
    "accuracy_ada = accuracy_score(validate_y,pred_ada)\n",
    "recall_ada = recall_score(validate_y,pred_ada)\n",
    "precision_ada = precision_score(validate_y,pred_ada)"
   ]
  },
  {
   "cell_type": "code",
   "execution_count": 35,
   "metadata": {},
   "outputs": [],
   "source": [
    "gb = GradientBoostingClassifier()\n",
    "\n",
    "gb.fit(train_x,train_y)\n",
    "\n",
    "pred_gb = gb.predict(validate_x)\n",
    "\n",
    "accuracy_gb = accuracy_score(validate_y,pred_gb)\n",
    "recall_gb = recall_score(validate_y,pred_gb)\n",
    "precision_gb = precision_score(validate_y,pred_gb)"
   ]
  },
  {
   "cell_type": "code",
   "execution_count": 36,
   "metadata": {},
   "outputs": [
    {
     "data": {
      "text/html": [
       "<div>\n",
       "<style scoped>\n",
       "    .dataframe tbody tr th:only-of-type {\n",
       "        vertical-align: middle;\n",
       "    }\n",
       "\n",
       "    .dataframe tbody tr th {\n",
       "        vertical-align: top;\n",
       "    }\n",
       "\n",
       "    .dataframe thead th {\n",
       "        text-align: right;\n",
       "    }\n",
       "</style>\n",
       "<table border=\"1\" class=\"dataframe\">\n",
       "  <thead>\n",
       "    <tr style=\"text-align: right;\">\n",
       "      <th></th>\n",
       "      <th>Method</th>\n",
       "      <th>Accuracy</th>\n",
       "      <th>Recall Score</th>\n",
       "      <th>Precision Score</th>\n",
       "    </tr>\n",
       "  </thead>\n",
       "  <tbody>\n",
       "    <tr>\n",
       "      <th>0</th>\n",
       "      <td>Bagging</td>\n",
       "      <td>0.738833</td>\n",
       "      <td>0.721429</td>\n",
       "      <td>0.758103</td>\n",
       "    </tr>\n",
       "    <tr>\n",
       "      <th>1</th>\n",
       "      <td>Adaboost</td>\n",
       "      <td>0.757667</td>\n",
       "      <td>0.823052</td>\n",
       "      <td>0.736063</td>\n",
       "    </tr>\n",
       "    <tr>\n",
       "      <th>2</th>\n",
       "      <td>Gradient boosting</td>\n",
       "      <td>0.756833</td>\n",
       "      <td>0.822403</td>\n",
       "      <td>0.735269</td>\n",
       "    </tr>\n",
       "  </tbody>\n",
       "</table>\n",
       "</div>"
      ],
      "text/plain": [
       "              Method  Accuracy  Recall Score  Precision Score\n",
       "0            Bagging  0.738833      0.721429         0.758103\n",
       "1           Adaboost  0.757667      0.823052         0.736063\n",
       "2  Gradient boosting  0.756833      0.822403         0.735269"
      ]
     },
     "execution_count": 36,
     "metadata": {},
     "output_type": "execute_result"
    }
   ],
   "source": [
    "result_2 = pd.DataFrame({'Method':['Bagging','Adaboost','Gradient boosting'],\n",
    "                       'Accuracy':[accuracy_bag,accuracy_ada,accuracy_gb],\n",
    "                       'Recall Score':[recall_bag,recall_ada,recall_gb],\n",
    "                      'Precision Score':[precision_bag,precision_ada,precision_gb]})\n",
    "result_2"
   ]
  },
  {
   "cell_type": "code",
   "execution_count": 37,
   "metadata": {},
   "outputs": [],
   "source": [
    "result_df = pd.concat([result,result_2])"
   ]
  },
  {
   "cell_type": "code",
   "execution_count": 38,
   "metadata": {},
   "outputs": [
    {
     "data": {
      "text/html": [
       "<div>\n",
       "<style scoped>\n",
       "    .dataframe tbody tr th:only-of-type {\n",
       "        vertical-align: middle;\n",
       "    }\n",
       "\n",
       "    .dataframe tbody tr th {\n",
       "        vertical-align: top;\n",
       "    }\n",
       "\n",
       "    .dataframe thead th {\n",
       "        text-align: right;\n",
       "    }\n",
       "</style>\n",
       "<table border=\"1\" class=\"dataframe\">\n",
       "  <thead>\n",
       "    <tr style=\"text-align: right;\">\n",
       "      <th></th>\n",
       "      <th>Method</th>\n",
       "      <th>Accuracy</th>\n",
       "      <th>Recall Score</th>\n",
       "      <th>Precision Score</th>\n",
       "    </tr>\n",
       "  </thead>\n",
       "  <tbody>\n",
       "    <tr>\n",
       "      <th>0</th>\n",
       "      <td>Decision Trees</td>\n",
       "      <td>0.686667</td>\n",
       "      <td>0.703896</td>\n",
       "      <td>0.691327</td>\n",
       "    </tr>\n",
       "    <tr>\n",
       "      <th>1</th>\n",
       "      <td>Random Forest</td>\n",
       "      <td>0.751500</td>\n",
       "      <td>0.717857</td>\n",
       "      <td>0.780445</td>\n",
       "    </tr>\n",
       "    <tr>\n",
       "      <th>2</th>\n",
       "      <td>Multinomial Naive Bayes</td>\n",
       "      <td>0.802333</td>\n",
       "      <td>0.814286</td>\n",
       "      <td>0.803331</td>\n",
       "    </tr>\n",
       "    <tr>\n",
       "      <th>3</th>\n",
       "      <td>Logistic Regression</td>\n",
       "      <td>0.816333</td>\n",
       "      <td>0.833117</td>\n",
       "      <td>0.813570</td>\n",
       "    </tr>\n",
       "    <tr>\n",
       "      <th>0</th>\n",
       "      <td>Bagging</td>\n",
       "      <td>0.738833</td>\n",
       "      <td>0.721429</td>\n",
       "      <td>0.758103</td>\n",
       "    </tr>\n",
       "    <tr>\n",
       "      <th>1</th>\n",
       "      <td>Adaboost</td>\n",
       "      <td>0.757667</td>\n",
       "      <td>0.823052</td>\n",
       "      <td>0.736063</td>\n",
       "    </tr>\n",
       "    <tr>\n",
       "      <th>2</th>\n",
       "      <td>Gradient boosting</td>\n",
       "      <td>0.756833</td>\n",
       "      <td>0.822403</td>\n",
       "      <td>0.735269</td>\n",
       "    </tr>\n",
       "  </tbody>\n",
       "</table>\n",
       "</div>"
      ],
      "text/plain": [
       "                    Method  Accuracy  Recall Score  Precision Score\n",
       "0           Decision Trees  0.686667      0.703896         0.691327\n",
       "1            Random Forest  0.751500      0.717857         0.780445\n",
       "2  Multinomial Naive Bayes  0.802333      0.814286         0.803331\n",
       "3      Logistic Regression  0.816333      0.833117         0.813570\n",
       "0                  Bagging  0.738833      0.721429         0.758103\n",
       "1                 Adaboost  0.757667      0.823052         0.736063\n",
       "2        Gradient boosting  0.756833      0.822403         0.735269"
      ]
     },
     "execution_count": 38,
     "metadata": {},
     "output_type": "execute_result"
    }
   ],
   "source": [
    "result_df"
   ]
  },
  {
   "cell_type": "markdown",
   "metadata": {},
   "source": [
    "## The models that we choose for furthur hyper parameter modelling are Multinomial Naive Bayes, Logistic Regression and Gradient Boosting."
   ]
  },
  {
   "cell_type": "markdown",
   "metadata": {},
   "source": [
    "## Hyper-Parameter Tuning"
   ]
  },
  {
   "cell_type": "code",
   "execution_count": 39,
   "metadata": {},
   "outputs": [],
   "source": [
    "from sklearn.model_selection import GridSearchCV"
   ]
  },
  {
   "cell_type": "code",
   "execution_count": 40,
   "metadata": {},
   "outputs": [],
   "source": [
    "# finding parameters for gradient boost \n",
    "\n",
    "boost_param = {\n",
    "    \"n_estimators\" : [25,50,100],\n",
    "    \"learning_rate\" : [1,2],\n",
    "    \"loss\" : [ 'deviance', 'exponential'],\n",
    "    \"random_state\" : [123]\n",
    "}"
   ]
  },
  {
   "cell_type": "code",
   "execution_count": 41,
   "metadata": {},
   "outputs": [
    {
     "data": {
      "text/plain": [
       "{'learning_rate': 1,\n",
       " 'loss': 'exponential',\n",
       " 'n_estimators': 100,\n",
       " 'random_state': 123}"
      ]
     },
     "execution_count": 41,
     "metadata": {},
     "output_type": "execute_result"
    }
   ],
   "source": [
    "grid_boost = GridSearchCV(gb,boost_param,cv=5)\n",
    "\n",
    "grid_boost.fit(train_x,train_y)\n",
    "\n",
    "grid_boost.best_params_"
   ]
  },
  {
   "cell_type": "code",
   "execution_count": 42,
   "metadata": {},
   "outputs": [],
   "source": [
    "tuned_gb = GradientBoostingClassifier( learning_rate =1,\n",
    " loss = 'exponential',\n",
    " n_estimators = 100,\n",
    " random_state = 123)\n",
    "\n",
    "tuned_gb.fit(train_x,train_y)\n",
    "\n",
    "pred_gb = tuned_gb.predict(validate_x)\n",
    "\n",
    "accuracy_gb = accuracy_score(validate_y,pred_gb)\n",
    "recall_gb = recall_score(validate_y,pred_gb)\n",
    "precision_gb = precision_score(validate_y,pred_gb)"
   ]
  },
  {
   "cell_type": "markdown",
   "metadata": {},
   "source": [
    "#### accuracy improves for gb from 0.754 to 0.797 "
   ]
  },
  {
   "cell_type": "markdown",
   "metadata": {},
   "source": [
    "## Voting Classifier"
   ]
  },
  {
   "cell_type": "code",
   "execution_count": 43,
   "metadata": {},
   "outputs": [],
   "source": [
    "from sklearn.ensemble import VotingClassifier"
   ]
  },
  {
   "cell_type": "code",
   "execution_count": 44,
   "metadata": {},
   "outputs": [
    {
     "name": "stderr",
     "output_type": "stream",
     "text": [
      "C:\\Users\\Ravi Sreedhar\\Anaconda3\\lib\\site-packages\\sklearn\\linear_model\\logistic.py:433: FutureWarning: Default solver will be changed to 'lbfgs' in 0.22. Specify a solver to silence this warning.\n",
      "  FutureWarning)\n"
     ]
    }
   ],
   "source": [
    "vote = VotingClassifier([('Logistic Reg',model_lg),('Multinomial NB',model_nb),('Grad Boosting Tuned',tuned_gb)],voting='hard')\n",
    "vote.fit(train_x,train_y)\n",
    "pred_vote = vote.predict(validate_x)\n",
    "accuracy_vote = accuracy_score(validate_y,pred_vote)\n",
    "recall_vote = recall_score(validate_y,pred_vote)\n",
    "precision_vote = precision_score(validate_y,pred_vote)"
   ]
  },
  {
   "cell_type": "code",
   "execution_count": 45,
   "metadata": {},
   "outputs": [
    {
     "data": {
      "text/html": [
       "<div>\n",
       "<style scoped>\n",
       "    .dataframe tbody tr th:only-of-type {\n",
       "        vertical-align: middle;\n",
       "    }\n",
       "\n",
       "    .dataframe tbody tr th {\n",
       "        vertical-align: top;\n",
       "    }\n",
       "\n",
       "    .dataframe thead th {\n",
       "        text-align: right;\n",
       "    }\n",
       "</style>\n",
       "<table border=\"1\" class=\"dataframe\">\n",
       "  <thead>\n",
       "    <tr style=\"text-align: right;\">\n",
       "      <th></th>\n",
       "      <th>Method</th>\n",
       "      <th>Accuracy</th>\n",
       "      <th>Recall Score</th>\n",
       "      <th>Precision Score</th>\n",
       "    </tr>\n",
       "  </thead>\n",
       "  <tbody>\n",
       "    <tr>\n",
       "      <th>0</th>\n",
       "      <td>Decision Trees</td>\n",
       "      <td>0.686667</td>\n",
       "      <td>0.703896</td>\n",
       "      <td>0.691327</td>\n",
       "    </tr>\n",
       "    <tr>\n",
       "      <th>1</th>\n",
       "      <td>Random Forest</td>\n",
       "      <td>0.751500</td>\n",
       "      <td>0.717857</td>\n",
       "      <td>0.780445</td>\n",
       "    </tr>\n",
       "    <tr>\n",
       "      <th>2</th>\n",
       "      <td>Multinomial Naive Bayes</td>\n",
       "      <td>0.802333</td>\n",
       "      <td>0.814286</td>\n",
       "      <td>0.803331</td>\n",
       "    </tr>\n",
       "    <tr>\n",
       "      <th>3</th>\n",
       "      <td>Logistic Regression</td>\n",
       "      <td>0.816333</td>\n",
       "      <td>0.833117</td>\n",
       "      <td>0.813570</td>\n",
       "    </tr>\n",
       "    <tr>\n",
       "      <th>0</th>\n",
       "      <td>Bagging</td>\n",
       "      <td>0.738833</td>\n",
       "      <td>0.721429</td>\n",
       "      <td>0.758103</td>\n",
       "    </tr>\n",
       "    <tr>\n",
       "      <th>1</th>\n",
       "      <td>Adaboost</td>\n",
       "      <td>0.757667</td>\n",
       "      <td>0.823052</td>\n",
       "      <td>0.736063</td>\n",
       "    </tr>\n",
       "    <tr>\n",
       "      <th>2</th>\n",
       "      <td>Gradient boosting</td>\n",
       "      <td>0.756833</td>\n",
       "      <td>0.822403</td>\n",
       "      <td>0.735269</td>\n",
       "    </tr>\n",
       "    <tr>\n",
       "      <th>0</th>\n",
       "      <td>Tuned Gradient boosting</td>\n",
       "      <td>0.797500</td>\n",
       "      <td>0.828571</td>\n",
       "      <td>0.787897</td>\n",
       "    </tr>\n",
       "    <tr>\n",
       "      <th>1</th>\n",
       "      <td>Vote of LG, MNB and GB</td>\n",
       "      <td>0.825167</td>\n",
       "      <td>0.844481</td>\n",
       "      <td>0.820246</td>\n",
       "    </tr>\n",
       "  </tbody>\n",
       "</table>\n",
       "</div>"
      ],
      "text/plain": [
       "                    Method  Accuracy  Recall Score  Precision Score\n",
       "0           Decision Trees  0.686667      0.703896         0.691327\n",
       "1            Random Forest  0.751500      0.717857         0.780445\n",
       "2  Multinomial Naive Bayes  0.802333      0.814286         0.803331\n",
       "3      Logistic Regression  0.816333      0.833117         0.813570\n",
       "0                  Bagging  0.738833      0.721429         0.758103\n",
       "1                 Adaboost  0.757667      0.823052         0.736063\n",
       "2        Gradient boosting  0.756833      0.822403         0.735269\n",
       "0  Tuned Gradient boosting  0.797500      0.828571         0.787897\n",
       "1   Vote of LG, MNB and GB  0.825167      0.844481         0.820246"
      ]
     },
     "execution_count": 45,
     "metadata": {},
     "output_type": "execute_result"
    }
   ],
   "source": [
    "result_3 = pd.DataFrame({'Method':['Tuned Gradient boosting','Vote of LG, MNB and GB'],\n",
    "                       'Accuracy':[accuracy_gb,accuracy_vote],\n",
    "                       'Recall Score':[recall_gb,recall_vote],\n",
    "                      'Precision Score':[precision_gb,precision_vote]})\n",
    "\n",
    "result_df = pd.concat([result_df,result_3])\n",
    "result_df"
   ]
  },
  {
   "cell_type": "code",
   "execution_count": 46,
   "metadata": {},
   "outputs": [],
   "source": [
    "result_df.to_csv('Result with custom stopword.csv')"
   ]
  },
  {
   "cell_type": "markdown",
   "metadata": {},
   "source": [
    "## Vote of the best 3 models are giving a good Accuracy, and Precision"
   ]
  },
  {
   "cell_type": "markdown",
   "metadata": {},
   "source": [
    "# Actionable Insights"
   ]
  },
  {
   "cell_type": "code",
   "execution_count": 47,
   "metadata": {},
   "outputs": [
    {
     "name": "stderr",
     "output_type": "stream",
     "text": [
      "C:\\Users\\Ravi Sreedhar\\Anaconda3\\lib\\site-packages\\pandas\\core\\frame.py:3697: SettingWithCopyWarning: \n",
      "A value is trying to be set on a copy of a slice from a DataFrame\n",
      "\n",
      "See the caveats in the documentation: http://pandas.pydata.org/pandas-docs/stable/indexing.html#indexing-view-versus-copy\n",
      "  errors=errors)\n"
     ]
    },
    {
     "data": {
      "text/html": [
       "<div>\n",
       "<style scoped>\n",
       "    .dataframe tbody tr th:only-of-type {\n",
       "        vertical-align: middle;\n",
       "    }\n",
       "\n",
       "    .dataframe tbody tr th {\n",
       "        vertical-align: top;\n",
       "    }\n",
       "\n",
       "    .dataframe thead th {\n",
       "        text-align: right;\n",
       "    }\n",
       "</style>\n",
       "<table border=\"1\" class=\"dataframe\">\n",
       "  <thead>\n",
       "    <tr style=\"text-align: right;\">\n",
       "      <th></th>\n",
       "      <th>Review_class</th>\n",
       "      <th>review_text</th>\n",
       "    </tr>\n",
       "  </thead>\n",
       "  <tbody>\n",
       "    <tr>\n",
       "      <th>6</th>\n",
       "      <td>0</td>\n",
       "      <td>This is a self-published book, and if you want...</td>\n",
       "    </tr>\n",
       "    <tr>\n",
       "      <th>10</th>\n",
       "      <td>0</td>\n",
       "      <td>A complete waste of time. Typographical errors...</td>\n",
       "    </tr>\n",
       "    <tr>\n",
       "      <th>13</th>\n",
       "      <td>0</td>\n",
       "      <td>I guess you have to be a romance novel lover f...</td>\n",
       "    </tr>\n",
       "    <tr>\n",
       "      <th>14</th>\n",
       "      <td>0</td>\n",
       "      <td>I feel I have to write to keep others from was...</td>\n",
       "    </tr>\n",
       "    <tr>\n",
       "      <th>15</th>\n",
       "      <td>0</td>\n",
       "      <td>It's glaringly obvious that all of the glowing...</td>\n",
       "    </tr>\n",
       "  </tbody>\n",
       "</table>\n",
       "</div>"
      ],
      "text/plain": [
       "    Review_class                                        review_text\n",
       "6              0  This is a self-published book, and if you want...\n",
       "10             0  A complete waste of time. Typographical errors...\n",
       "13             0  I guess you have to be a romance novel lover f...\n",
       "14             0  I feel I have to write to keep others from was...\n",
       "15             0  It's glaringly obvious that all of the glowing..."
      ]
     },
     "execution_count": 47,
     "metadata": {},
     "output_type": "execute_result"
    }
   ],
   "source": [
    "#extract negative review\n",
    "neg_data = review[review['Review_class']==0]\n",
    "neg_data.drop('clean_txt',axis=1,inplace=True)\n",
    "neg_data.head()"
   ]
  },
  {
   "cell_type": "code",
   "execution_count": 48,
   "metadata": {},
   "outputs": [
    {
     "data": {
      "text/plain": [
       "(9743, 2)"
      ]
     },
     "execution_count": 48,
     "metadata": {},
     "output_type": "execute_result"
    }
   ],
   "source": [
    "neg_data.shape"
   ]
  },
  {
   "cell_type": "code",
   "execution_count": 49,
   "metadata": {},
   "outputs": [
    {
     "name": "stderr",
     "output_type": "stream",
     "text": [
      "C:\\Users\\Ravi Sreedhar\\Anaconda3\\lib\\site-packages\\ipykernel_launcher.py:7: SettingWithCopyWarning: \n",
      "A value is trying to be set on a copy of a slice from a DataFrame.\n",
      "Try using .loc[row_indexer,col_indexer] = value instead\n",
      "\n",
      "See the caveats in the documentation: http://pandas.pydata.org/pandas-docs/stable/indexing.html#indexing-view-versus-copy\n",
      "  import sys\n"
     ]
    },
    {
     "data": {
      "text/html": [
       "<div>\n",
       "<style scoped>\n",
       "    .dataframe tbody tr th:only-of-type {\n",
       "        vertical-align: middle;\n",
       "    }\n",
       "\n",
       "    .dataframe tbody tr th {\n",
       "        vertical-align: top;\n",
       "    }\n",
       "\n",
       "    .dataframe thead th {\n",
       "        text-align: right;\n",
       "    }\n",
       "</style>\n",
       "<table border=\"1\" class=\"dataframe\">\n",
       "  <thead>\n",
       "    <tr style=\"text-align: right;\">\n",
       "      <th></th>\n",
       "      <th>Review_class</th>\n",
       "      <th>review_text</th>\n",
       "      <th>N-gram_text</th>\n",
       "    </tr>\n",
       "  </thead>\n",
       "  <tbody>\n",
       "    <tr>\n",
       "      <th>6</th>\n",
       "      <td>0</td>\n",
       "      <td>This is a self-published book, and if you want...</td>\n",
       "      <td>selfpublished book want know whyread paragraph...</td>\n",
       "    </tr>\n",
       "    <tr>\n",
       "      <th>10</th>\n",
       "      <td>0</td>\n",
       "      <td>A complete waste of time. Typographical errors...</td>\n",
       "      <td>complete waste time Typographical errors poor ...</td>\n",
       "    </tr>\n",
       "    <tr>\n",
       "      <th>13</th>\n",
       "      <td>0</td>\n",
       "      <td>I guess you have to be a romance novel lover f...</td>\n",
       "      <td>guess romance novel lover one not discerning o...</td>\n",
       "    </tr>\n",
       "    <tr>\n",
       "      <th>14</th>\n",
       "      <td>0</td>\n",
       "      <td>I feel I have to write to keep others from was...</td>\n",
       "      <td>feel write keep others wasting money book seem...</td>\n",
       "    </tr>\n",
       "    <tr>\n",
       "      <th>15</th>\n",
       "      <td>0</td>\n",
       "      <td>It's glaringly obvious that all of the glowing...</td>\n",
       "      <td>glaringly obvious glowing reviews written pers...</td>\n",
       "    </tr>\n",
       "  </tbody>\n",
       "</table>\n",
       "</div>"
      ],
      "text/plain": [
       "    Review_class                                        review_text  \\\n",
       "6              0  This is a self-published book, and if you want...   \n",
       "10             0  A complete waste of time. Typographical errors...   \n",
       "13             0  I guess you have to be a romance novel lover f...   \n",
       "14             0  I feel I have to write to keep others from was...   \n",
       "15             0  It's glaringly obvious that all of the glowing...   \n",
       "\n",
       "                                          N-gram_text  \n",
       "6   selfpublished book want know whyread paragraph...  \n",
       "10  complete waste time Typographical errors poor ...  \n",
       "13  guess romance novel lover one not discerning o...  \n",
       "14  feel write keep others wasting money book seem...  \n",
       "15  glaringly obvious glowing reviews written pers...  "
      ]
     },
     "execution_count": 49,
     "metadata": {},
     "output_type": "execute_result"
    }
   ],
   "source": [
    "txt = neg_data['review_text'].str.replace('[^a-zA-Z ]','')\n",
    "def clean_ngram(text):\n",
    "    words = text.split(' ')\n",
    "    clean_words = [word for word in words if word.lower() not in custom_stop_words_new]\n",
    "    return ' '.join(clean_words)\n",
    "\n",
    "neg_data['N-gram_text'] = txt.apply(clean_ngram)\n",
    "neg_data.head()"
   ]
  },
  {
   "cell_type": "code",
   "execution_count": 50,
   "metadata": {},
   "outputs": [],
   "source": [
    "#Create n-grams to find most used phrase in negative review\n",
    "from nltk.util import ngrams\n",
    "tokenize = nltk.word_tokenize(''.join(neg_data['N-gram_text']))\n",
    "\n",
    "bigrams = list(ngrams(tokenize,2))\n",
    "trigrams = list(ngrams(tokenize,3))\n",
    "quadgrams = list(ngrams(tokenize,4))\n",
    "quintgrams = list(ngrams(tokenize,5))"
   ]
  },
  {
   "cell_type": "code",
   "execution_count": 51,
   "metadata": {},
   "outputs": [],
   "source": [
    "from collections import Counter\n",
    "a = Counter(bigrams)\n",
    "b = Counter(trigrams)\n",
    "c = Counter(quadgrams)\n",
    "d = Counter(quintgrams)"
   ]
  },
  {
   "cell_type": "code",
   "execution_count": 52,
   "metadata": {},
   "outputs": [
    {
     "name": "stdout",
     "output_type": "stream",
     "text": [
      "[('waste', 'money'), ('can', 'not'), ('read', 'book'), ('waste', 'time'), ('not', 'even'), ('year', 'old'), ('dont', 'know'), ('not', 'recommend'), ('much', 'better'), ('book', 'not'), ('not', 'good'), ('not', 'worth'), ('Im', 'not'), ('not', 'work'), ('special', 'effects'), ('Dont', 'waste'), ('not', 'buy'), ('first', 'time'), ('dont', 'think'), ('looks', 'like'), ('reading', 'book'), ('Baby', 'Dry'), ('ever', 'seen'), ('ever', 'read'), ('Rachel', 'Weisz')]\n"
     ]
    }
   ],
   "source": [
    "#5 largest bigrams\n",
    "from heapq import nlargest\n",
    "\n",
    "bigram_comments = nlargest(25, a, key=a.get)\n",
    "print(bigram_comments)"
   ]
  },
  {
   "cell_type": "code",
   "execution_count": 53,
   "metadata": {},
   "outputs": [
    {
     "name": "stdout",
     "output_type": "stream",
     "text": [
      "[('Dont', 'waste', 'money'), ('Im', 'not', 'sure'), ('waste', 'time', 'money'), ('dont', 'waste', 'money'), ('book', 'ever', 'read'), ('Dont', 'waste', 'time'), ('Pampers', 'Baby', 'Dry'), ('not', 'recommend', 'book'), ('year', 'old', 'son'), ('Ive', 'ever', 'seen'), ('not', 'worth', 'money'), ('Baby', 'Dry', 'diapers'), ('not', 'waste', 'money'), ('one', 'worst', 'movies'), ('get', 'money', 'back'), ('not', 'waste', 'time'), ('worst', 'book', 'ever'), ('Ive', 'ever', 'read'), ('gave', 'two', 'stars'), ('worst', 'movies', 'ever'), ('movie', 'ever', 'seen'), ('World', 'War', 'II'), ('can', 'not', 'recommend'), ('dont', 'get', 'wrong'), ('worst', 'movie', 'ever')]\n"
     ]
    }
   ],
   "source": [
    "trigram_comments = nlargest(25, b, key=b.get)\n",
    "print(trigram_comments)"
   ]
  },
  {
   "cell_type": "code",
   "execution_count": 54,
   "metadata": {},
   "outputs": [
    {
     "name": "stdout",
     "output_type": "stream",
     "text": [
      "[('Rachel', 'Weisz', 'Djimon', 'Hounsou'), ('worst', 'book', 'ever', 'read'), ('one', 'worst', 'movies', 'ever'), ('Rachel', 'Weisz', 'Peter', 'Stormare'), ('Dont', 'waste', 'time', 'money'), ('worst', 'movies', 'ever', 'seen'), ('GARY', 'WANT', 'GARY', 'WANT'), ('not', 'recommend', 'book', 'anyone'), ('WANT', 'GARY', 'WANT', 'GARY'), ('movies', 'Ive', 'ever', 'seen'), ('boring', 'book', 'ever', 'read'), ('Pampers', 'Baby', 'Dry', 'diapers'), ('special', 'effects', 'not', 'good'), ('worst', 'movies', 'Ive', 'ever'), ('one', 'worst', 'books', 'ever'), ('two', 'stars', 'instead', 'one'), ('books', 'Ive', 'ever', 'read'), ('book', 'Ive', 'ever', 'read'), ('adaptation', 'vertigo', 'comic', 'book'), ('Weisz', 'Djimon', 'Hounsou', 'Peter'), ('Djimon', 'Hounsou', 'Peter', 'Stormare'), ('never', 'get', 'time', 'back'), ('worst', 'movie', 'ever', 'made'), ('worst', 'books', 'ever', 'read'), ('one', 'worst', 'books', 'Ive'), ('worst', 'books', 'Ive', 'ever'), ('worst', 'movie', 'ever', 'seen'), ('not', 'waste', 'time', 'money'), ('wish', 'get', 'money', 'back'), ('didnt', 'really', 'like', 'book'), ('horror', 'comic', 'book', 'lacks'), ('Keanu', 'Reeves', 'vanity', 'project'), ('make', 'film', 'little', 'better'), ('one', 'worst', 'movies', 'Ive'), ('one', 'worse', 'movies', 'ever'), ('spends', 'great', 'deal', 'time'), ('not', 'waste', 'money', 'one'), ('worst', 'book', 'ive', 'ever'), ('book', 'ive', 'ever', 'read'), ('movie', 'Ive', 'ever', 'seen'), ('one', 'worst', 'movies', 'seen'), ('life', 'never', 'get', 'back'), ('book', 'dont', 'get', 'wrong'), ('Better', 'luck', 'next', 'time'), ('remember', 'station', 'listening', 'time'), ('Please', 'save', 'money', 'buy'), ('never', 'buy', 'another', 'HP'), ('life', 'Ill', 'never', 'get'), ('worst', 'movie', 'ever', 'saw'), ('Ive', 'read', 'long', 'time'), ('Dont', 'get', 'wrong', 'like'), ('not', 'good', 'quality', 'not'), ('reason', 'give', 'two', 'stars'), ('spend', 'extra', 'money', 'get'), ('Ive', 'forced', 'read', 'book'), ('top', 'worst', 'books', 'ever'), ('teacher', 'made', 'us', 'read'), ('dont', 'waste', 'time', 'money'), ('worst', 'book', 'Ive', 'ever'), ('looking', 'forward', 'reading', 'book'), ('not', 'play', 'last', 'two'), ('play', 'last', 'two', 'chapters'), ('keep', 'coffee', 'hot', 'enough'), ('Mr', 'Coffee', 'mug', 'warmer'), ('not', 'keep', 'coffee', 'hot'), ('keep', 'baby', 'dry', 'hours'), ('baby', 'dry', 'dont', 'absorb'), ('dry', 'dont', 'absorb', 'runny'), ('dont', 'absorb', 'runny', 'poop'), ('absorb', 'runny', 'poop', 'tends'), ('runny', 'poop', 'tends', 'go'), ('poop', 'tends', 'go', 'right'), ('tends', 'go', 'right', 'back'), ('go', 'right', 'back', 'side'), ('right', 'back', 'side', 'diaper'), ('back', 'side', 'diaper', 'onto'), ('side', 'diaper', 'onto', 'outfit'), ('diaper', 'onto', 'outfit', 'usually'), ('onto', 'outfit', 'usually', 'whatever'), ('outfit', 'usually', 'whatever', 'whoever'), ('usually', 'whatever', 'whoever', 'lying'), ('not', 'worth', 'money', 'saved'), ('worth', 'money', 'saved', 'buy'), ('Hope', 'helps', 'someone', 'wondering'), ('helps', 'someone', 'wondering', 'buy'), ('Baby', 'Dry', 'DEFINITELY', 'go'), ('Pampers', 'Swaddlers', 'Dry', 'Max'), ('Im', 'giving', 'two', 'stars'), ('paper', 'jam', 'paper', 'jam'), ('Im', 'not', 'wasting', 'money'), ('World', 'War', 'II', 'generation'), ('mean', 'come', 'mean', 'come'), ('Keanu', 'Reeves', 'not', 'come'), ('Reeves', 'not', 'come', 'across'), ('Rachel', 'Weisz', 'manages', 'give'), ('rip', 'great', 'comic', 'book'), ('great', 'comic', 'book', 'not'), ('comic', 'book', 'not', 'puts'), ('book', 'not', 'puts', 'worse'), ('not', 'puts', 'worse', 'actor')]\n"
     ]
    }
   ],
   "source": [
    "quadgram_comments = nlargest(100, c, key=c.get)\n",
    "print(quadgram_comments)"
   ]
  },
  {
   "cell_type": "code",
   "execution_count": 55,
   "metadata": {},
   "outputs": [
    {
     "name": "stdout",
     "output_type": "stream",
     "text": [
      "[('GARY', 'WANT', 'GARY', 'WANT', 'GARY'), ('one', 'worst', 'movies', 'ever', 'seen'), ('Rachel', 'Weisz', 'Djimon', 'Hounsou', 'Peter'), ('Weisz', 'Djimon', 'Hounsou', 'Peter', 'Stormare'), ('worst', 'movies', 'Ive', 'ever', 'seen'), ('one', 'worst', 'books', 'ever', 'read'), ('one', 'worst', 'books', 'Ive', 'ever'), ('WANT', 'GARY', 'WANT', 'GARY', 'WANT'), ('one', 'worst', 'movies', 'Ive', 'ever'), ('worst', 'book', 'ive', 'ever', 'read'), ('worst', 'book', 'Ive', 'ever', 'read'), ('not', 'play', 'last', 'two', 'chapters'), ('baby', 'dry', 'dont', 'absorb', 'runny'), ('dry', 'dont', 'absorb', 'runny', 'poop'), ('dont', 'absorb', 'runny', 'poop', 'tends'), ('absorb', 'runny', 'poop', 'tends', 'go'), ('runny', 'poop', 'tends', 'go', 'right'), ('poop', 'tends', 'go', 'right', 'back'), ('tends', 'go', 'right', 'back', 'side'), ('go', 'right', 'back', 'side', 'diaper'), ('right', 'back', 'side', 'diaper', 'onto'), ('back', 'side', 'diaper', 'onto', 'outfit'), ('side', 'diaper', 'onto', 'outfit', 'usually'), ('diaper', 'onto', 'outfit', 'usually', 'whatever'), ('onto', 'outfit', 'usually', 'whatever', 'whoever'), ('outfit', 'usually', 'whatever', 'whoever', 'lying'), ('not', 'worth', 'money', 'saved', 'buy'), ('Hope', 'helps', 'someone', 'wondering', 'buy'), ('Keanu', 'Reeves', 'not', 'come', 'across'), ('rip', 'great', 'comic', 'book', 'not'), ('great', 'comic', 'book', 'not', 'puts'), ('comic', 'book', 'not', 'puts', 'worse'), ('book', 'not', 'puts', 'worse', 'actor'), ('not', 'puts', 'worse', 'actor', 'imaginable'), ('puts', 'worse', 'actor', 'imaginable', 'main'), ('worse', 'actor', 'imaginable', 'main', 'character'), ('actor', 'imaginable', 'main', 'character', 'script'), ('imaginable', 'main', 'character', 'script', 'almost'), ('main', 'character', 'script', 'almost', 'crime'), ('character', 'script', 'almost', 'crime', 'dialog'), ('script', 'almost', 'crime', 'dialog', 'bad'), ('almost', 'crime', 'dialog', 'bad', 'even'), ('crime', 'dialog', 'bad', 'even', 'make'), ('dialog', 'bad', 'even', 'make', 'deaf'), ('bad', 'even', 'make', 'deaf', 'children'), ('even', 'make', 'deaf', 'children', 'cry'), ('make', 'deaf', 'children', 'cry', 'special'), ('deaf', 'children', 'cry', 'special', 'effects'), ('children', 'cry', 'special', 'effects', 'not'), ('cry', 'special', 'effects', 'not', 'good'), ('special', 'effects', 'not', 'good', 'one'), ('effects', 'not', 'good', 'one', 'hope'), ('not', 'good', 'one', 'hope', 'acting'), ('good', 'one', 'hope', 'acting', 'great'), ('one', 'hope', 'acting', 'great', 'thats'), ('hope', 'acting', 'great', 'thats', 'great'), ('acting', 'great', 'thats', 'great', 'feat'), ('great', 'thats', 'great', 'feat', 'bad'), ('thats', 'great', 'feat', 'bad', 'script'), ('great', 'feat', 'bad', 'script', 'Rachel'), ('feat', 'bad', 'script', 'Rachel', 'Weisz'), ('bad', 'script', 'Rachel', 'Weisz', 'Djimon'), ('script', 'Rachel', 'Weisz', 'Djimon', 'Hounsou'), ('great', 'work', 'people', 'grateful', 'still'), ('work', 'people', 'grateful', 'still', 'Keanus'), ('people', 'grateful', 'still', 'Keanus', 'film'), ('grateful', 'still', 'Keanus', 'film', 'still'), ('still', 'Keanus', 'film', 'still', 'torpedo'), ('Keanus', 'film', 'still', 'torpedo', 'lousy'), ('film', 'still', 'torpedo', 'lousy', 'performance'), ('still', 'torpedo', 'lousy', 'performance', 'tune'), ('torpedo', 'lousy', 'performance', 'tune', 'lousy'), ('lousy', 'performance', 'tune', 'lousy', 'script'), ('performance', 'tune', 'lousy', 'script', 'hasIf'), ('tune', 'lousy', 'script', 'hasIf', 'best'), ('lousy', 'script', 'hasIf', 'best', 'offer'), ('script', 'hasIf', 'best', 'offer', 'fans'), ('hasIf', 'best', 'offer', 'fans', 'comic'), ('best', 'offer', 'fans', 'comic', 'book'), ('offer', 'fans', 'comic', 'book', 'take'), ('loud', 'boring', 'adaptation', 'classic', 'horror'), ('boring', 'adaptation', 'classic', 'horror', 'comic'), ('adaptation', 'classic', 'horror', 'comic', 'book'), ('classic', 'horror', 'comic', 'book', 'lacks'), ('horror', 'comic', 'book', 'lacks', 'real'), ('comic', 'book', 'lacks', 'real', 'leading'), ('book', 'lacks', 'real', 'leading', 'man'), ('lacks', 'real', 'leading', 'man', 'movie'), ('real', 'leading', 'man', 'movie', 'fly'), ('leading', 'man', 'movie', 'fly', 'bad'), ('man', 'movie', 'fly', 'bad', 'script'), ('movie', 'fly', 'bad', 'script', 'almost'), ('fly', 'bad', 'script', 'almost', 'bad'), ('bad', 'script', 'almost', 'bad', 'special'), ('script', 'almost', 'bad', 'special', 'effects'), ('almost', 'bad', 'special', 'effects', 'Keanu'), ('bad', 'special', 'effects', 'Keanu', 'fails'), ('special', 'effects', 'Keanu', 'fails', 'miserably'), ('effects', 'Keanu', 'fails', 'miserably', 'role'), ('Keanu', 'fails', 'miserably', 'role', 'costar')]\n"
     ]
    }
   ],
   "source": [
    "quintgram_comments = nlargest(100, d, key=d.get)\n",
    "print(quintgram_comments)"
   ]
  },
  {
   "cell_type": "markdown",
   "metadata": {},
   "source": [
    "## Using ngrams, we observed most complaints are for the quality of the product, movie being bad or diaper not able to absorb runny poop.\n",
    "\n",
    "## Actionable insights from the reviews would be to sell the product in lesser quantity and to ensure good product placement to sell off stocks of bad product."
   ]
  },
  {
   "cell_type": "code",
   "execution_count": 56,
   "metadata": {},
   "outputs": [
    {
     "data": {
      "text/html": [
       "<div>\n",
       "<style scoped>\n",
       "    .dataframe tbody tr th:only-of-type {\n",
       "        vertical-align: middle;\n",
       "    }\n",
       "\n",
       "    .dataframe tbody tr th {\n",
       "        vertical-align: top;\n",
       "    }\n",
       "\n",
       "    .dataframe thead th {\n",
       "        text-align: right;\n",
       "    }\n",
       "</style>\n",
       "<table border=\"1\" class=\"dataframe\">\n",
       "  <thead>\n",
       "    <tr style=\"text-align: right;\">\n",
       "      <th></th>\n",
       "      <th>Review_class</th>\n",
       "      <th>review_text</th>\n",
       "    </tr>\n",
       "  </thead>\n",
       "  <tbody>\n",
       "    <tr>\n",
       "      <th>0</th>\n",
       "      <td>1</td>\n",
       "      <td>This sound track was beautiful! It paints the ...</td>\n",
       "    </tr>\n",
       "    <tr>\n",
       "      <th>1</th>\n",
       "      <td>1</td>\n",
       "      <td>I'm reading a lot of reviews saying that this ...</td>\n",
       "    </tr>\n",
       "    <tr>\n",
       "      <th>2</th>\n",
       "      <td>1</td>\n",
       "      <td>This soundtrack is my favorite music of all ti...</td>\n",
       "    </tr>\n",
       "    <tr>\n",
       "      <th>3</th>\n",
       "      <td>1</td>\n",
       "      <td>I truly like this soundtrack and I enjoy video...</td>\n",
       "    </tr>\n",
       "    <tr>\n",
       "      <th>4</th>\n",
       "      <td>1</td>\n",
       "      <td>If you've played the game, you know how divine...</td>\n",
       "    </tr>\n",
       "  </tbody>\n",
       "</table>\n",
       "</div>"
      ],
      "text/plain": [
       "   Review_class                                        review_text\n",
       "0             1  This sound track was beautiful! It paints the ...\n",
       "1             1  I'm reading a lot of reviews saying that this ...\n",
       "2             1  This soundtrack is my favorite music of all ti...\n",
       "3             1  I truly like this soundtrack and I enjoy video...\n",
       "4             1  If you've played the game, you know how divine..."
      ]
     },
     "execution_count": 56,
     "metadata": {},
     "output_type": "execute_result"
    }
   ],
   "source": [
    "#extract positive review\n",
    "pos_data = review[review['Review_class']==1]\n",
    "pos_data.drop('clean_txt',axis=1,inplace=True)\n",
    "pos_data.head()"
   ]
  },
  {
   "cell_type": "code",
   "execution_count": 57,
   "metadata": {},
   "outputs": [
    {
     "name": "stderr",
     "output_type": "stream",
     "text": [
      "C:\\Users\\Ravi Sreedhar\\Anaconda3\\lib\\site-packages\\ipykernel_launcher.py:3: SettingWithCopyWarning: \n",
      "A value is trying to be set on a copy of a slice from a DataFrame.\n",
      "Try using .loc[row_indexer,col_indexer] = value instead\n",
      "\n",
      "See the caveats in the documentation: http://pandas.pydata.org/pandas-docs/stable/indexing.html#indexing-view-versus-copy\n",
      "  This is separate from the ipykernel package so we can avoid doing imports until\n"
     ]
    },
    {
     "data": {
      "text/html": [
       "<div>\n",
       "<style scoped>\n",
       "    .dataframe tbody tr th:only-of-type {\n",
       "        vertical-align: middle;\n",
       "    }\n",
       "\n",
       "    .dataframe tbody tr th {\n",
       "        vertical-align: top;\n",
       "    }\n",
       "\n",
       "    .dataframe thead th {\n",
       "        text-align: right;\n",
       "    }\n",
       "</style>\n",
       "<table border=\"1\" class=\"dataframe\">\n",
       "  <thead>\n",
       "    <tr style=\"text-align: right;\">\n",
       "      <th></th>\n",
       "      <th>Review_class</th>\n",
       "      <th>review_text</th>\n",
       "      <th>N-gram_text</th>\n",
       "    </tr>\n",
       "  </thead>\n",
       "  <tbody>\n",
       "    <tr>\n",
       "      <th>0</th>\n",
       "      <td>1</td>\n",
       "      <td>This sound track was beautiful! It paints the ...</td>\n",
       "      <td>sound track beautiful paints senery mind well ...</td>\n",
       "    </tr>\n",
       "    <tr>\n",
       "      <th>1</th>\n",
       "      <td>1</td>\n",
       "      <td>I'm reading a lot of reviews saying that this ...</td>\n",
       "      <td>Im reading lot reviews saying best game soundt...</td>\n",
       "    </tr>\n",
       "    <tr>\n",
       "      <th>2</th>\n",
       "      <td>1</td>\n",
       "      <td>This soundtrack is my favorite music of all ti...</td>\n",
       "      <td>soundtrack favorite music time hands intense s...</td>\n",
       "    </tr>\n",
       "    <tr>\n",
       "      <th>3</th>\n",
       "      <td>1</td>\n",
       "      <td>I truly like this soundtrack and I enjoy video...</td>\n",
       "      <td>truly like soundtrack enjoy video game music p...</td>\n",
       "    </tr>\n",
       "    <tr>\n",
       "      <th>4</th>\n",
       "      <td>1</td>\n",
       "      <td>If you've played the game, you know how divine...</td>\n",
       "      <td>youve played game know divine music Every sing...</td>\n",
       "    </tr>\n",
       "  </tbody>\n",
       "</table>\n",
       "</div>"
      ],
      "text/plain": [
       "   Review_class                                        review_text  \\\n",
       "0             1  This sound track was beautiful! It paints the ...   \n",
       "1             1  I'm reading a lot of reviews saying that this ...   \n",
       "2             1  This soundtrack is my favorite music of all ti...   \n",
       "3             1  I truly like this soundtrack and I enjoy video...   \n",
       "4             1  If you've played the game, you know how divine...   \n",
       "\n",
       "                                         N-gram_text  \n",
       "0  sound track beautiful paints senery mind well ...  \n",
       "1  Im reading lot reviews saying best game soundt...  \n",
       "2  soundtrack favorite music time hands intense s...  \n",
       "3  truly like soundtrack enjoy video game music p...  \n",
       "4  youve played game know divine music Every sing...  "
      ]
     },
     "execution_count": 57,
     "metadata": {},
     "output_type": "execute_result"
    }
   ],
   "source": [
    "txt = pos_data['review_text'].str.replace('[^a-zA-Z ]','')\n",
    "\n",
    "pos_data['N-gram_text'] = txt.apply(clean_ngram)\n",
    "pos_data.head()"
   ]
  },
  {
   "cell_type": "code",
   "execution_count": 58,
   "metadata": {},
   "outputs": [],
   "source": [
    "tokenize = nltk.word_tokenize(''.join(pos_data['N-gram_text']))\n",
    "\n",
    "bigrams = list(ngrams(tokenize,2))\n",
    "trigrams = list(ngrams(tokenize,3))\n",
    "quadgrams = list(ngrams(tokenize,4))\n",
    "quintgrams = list(ngrams(tokenize,5))\n",
    "\n",
    "e = Counter(bigrams)\n",
    "f = Counter(trigrams)\n",
    "g = Counter(quadgrams)\n",
    "h = Counter(quintgrams)"
   ]
  },
  {
   "cell_type": "code",
   "execution_count": 59,
   "metadata": {},
   "outputs": [
    {
     "name": "stdout",
     "output_type": "stream",
     "text": [
      "[('read', 'book'), ('highly', 'recommend'), ('one', 'best'), ('years', 'ago'), ('year', 'old'), ('book', 'read'), ('recommend', 'book'), ('first', 'time'), ('can', 'not'), ('reading', 'book'), ('long', 'time'), ('dont', 'know'), ('much', 'better'), ('Im', 'not'), ('book', 'not'), ('cant', 'wait'), ('good', 'book'), ('well', 'written'), ('great', 'book'), ('really', 'good'), ('recommend', 'anyone'), ('ever', 'read'), ('easy', 'read'), ('even', 'though'), ('Measure', 'Man')]\n"
     ]
    }
   ],
   "source": [
    "bigram_comments = nlargest(25, e, key=e.get)\n",
    "print(bigram_comments)"
   ]
  },
  {
   "cell_type": "code",
   "execution_count": 60,
   "metadata": {},
   "outputs": [
    {
     "name": "stdout",
     "output_type": "stream",
     "text": [
      "[('recommend', 'book', 'anyone'), ('highly', 'recommend', 'book'), ('one', 'best', 'books'), ('year', 'old', 'son'), ('books', 'ever', 'read'), ('Pampers', 'Baby', 'Dry'), ('Im', 'not', 'sure'), ('many', 'years', 'ago'), ('year', 'old', 'daughter'), ('best', 'books', 'ever'), ('book', 'ever', 'read'), ('Ive', 'ever', 'read'), ('cant', 'go', 'wrong'), ('one', 'favorite', 'books'), ('cant', 'wait', 'next'), ('book', 'well', 'written'), ('Ive', 'ever', 'heard'), ('highly', 'recommend', 'anyone'), ('can', 'not', 'wait'), ('book', 'years', 'ago'), ('every', 'single', 'song'), ('first', 'time', 'read'), ('Brave', 'New', 'World'), ('Ive', 'ever', 'seen'), ('books', 'Ive', 'ever')]\n"
     ]
    }
   ],
   "source": [
    "trigram_comments = nlargest(25, f, key=f.get)\n",
    "print(trigram_comments)"
   ]
  },
  {
   "cell_type": "code",
   "execution_count": 61,
   "metadata": {},
   "outputs": [
    {
     "name": "stdout",
     "output_type": "stream",
     "text": [
      "[('one', 'best', 'books', 'ever'), ('best', 'books', 'ever', 'read'), ('highly', 'recommend', 'book', 'anyone'), ('best', 'books', 'Ive', 'ever'), ('one', 'best', 'books', 'Ive'), ('reason', 'didnt', 'give', 'stars'), ('books', 'Ive', 'ever', 'read'), ('book', 'Ive', 'ever', 'read'), ('read', 'book', 'years', 'ago'), ('William', 'Powell', 'Myrna', 'Loy'), ('year', 'old', 'daughter', 'loves'), ('Rock', 'n', 'Roll', 'Star'), ('book', 'many', 'years', 'ago'), ('AVC', 'BDRunning', 'time', 'Movie'), ('BDRunning', 'time', 'Movie', 'size'), ('time', 'Movie', 'size', 'bytesDisc'), ('Movie', 'size', 'bytesDisc', 'size'), ('size', 'bytesDisc', 'size', 'bytesAverage'), ('bytesDisc', 'size', 'bytesAverage', 'Video'), ('size', 'bytesAverage', 'Video', 'Bit'), ('bytesAverage', 'Video', 'Bit', 'Rate'), ('Video', 'Bit', 'Rate', 'MbpsDolby'), ('Bit', 'Rate', 'MbpsDolby', 'TrueHD'), ('Huxleys', 'Brave', 'New', 'World'), ('best', 'book', 'ever', 'read'), ('Catholic', 'King', 'Jamess', 'Court'), ('best', 'books', 'ever', 'written'), ('Mr', 'Coffee', 'mug', 'warmer'), ('one', 'favorite', 'books', 'time'), ('book', 'made', 'want', 'read'), ('year', 'old', 'granddaughter', 'loves'), ('album', 'Ive', 'ever', 'heard'), ('first', 'time', 'read', 'book'), ('recommend', 'book', 'anyone', 'interested'), ('say', 'enough', 'good', 'things'), ('book', 'well', 'put', 'together'), ('cant', 'seem', 'get', 'enough'), ('recommend', 'book', 'anyone', 'looking'), ('cant', 'wait', 'next', 'one'), ('years', 'ago', 'high', 'school'), ('book', 'year', 'old', 'son'), ('years', 'since', 'first', 'read'), ('gets', 'better', 'every', 'time'), ('Quick', 'Easy', 'Way', 'Effective'), ('Easy', 'Way', 'Effective', 'Speaking'), ('read', 'book', 'th', 'grade'), ('hard', 'time', 'putting', 'book'), ('recommend', 'book', 'anyone', 'wants'), ('thats', 'not', 'bad', 'thing'), ('best', 'book', 'Ive', 'ever'), ('feel', 'like', 'know', 'people'), ('Philadelphia', 'Catholic', 'King', 'Jamess'), ('Philadelphia', 'Catholic', 'King', 'James'), ('Catholic', 'King', 'James', 'Court'), ('rise', 'fall', 'Buendia', 'family'), ('Ive', 'read', 'several', 'times'), ('greatest', 'book', 'ever', 'read'), ('Push', 'Trick', 'Keep', 'Breathing'), ('Think', 'Im', 'Paranoid', 'Grow'), ('album', 'one', 'best', 'albums'), ('four', 'stars', 'instead', 'five'), ('Britney', 'Spears', 'Christina', 'Aguilera'), ('Henry', 'Fonda', 'John', 'Wayne'), ('cant', 'wait', 'till', 'next'), ('used', 'Pampers', 'Baby', 'Dry'), ('using', 'Pampers', 'Baby', 'Dry'), ('Pampers', 'Baby', 'Dry', 'Diapers'), ('Lennie', 'huge', 'man', 'mind'), ('Mice', 'Men', 'good', 'book'), ('can', 'not', 'go', 'wrong'), ('two', 'main', 'characters', 'George'), ('main', 'characters', 'George', 'Lennie'), ('story', 'two', 'young', 'men'), ('Drew', 'Barrymore', 'Adam', 'Sandler'), ('love', 'every', 'song', 'CD'), ('Perfect', 'Day', 'Measure', 'Man'), ('Clay', 'Aikens', 'Measure', 'Man'), ('Im', 'looking', 'forward', 'next'), ('Chronicles', 'Narnia', 'Prince', 'Caspian'), ('book', 'girl', 'named', 'Patty'), ('camera', 'described', 'Works', 'expected'), ('Like', 'Like', 'Real', 'Freak'), ('game', 'music', 'played', 'game'), ('Im', 'reading', 'lot', 'reviews'), ('Chrono', 'Cross', 'Times', 'Scar'), ('Dont', 'let', 'cover', 'fool'), ('read', 'book', 'made', 'want'), ('going', 'happen', 'next', 'book'), ('yr', 'old', 'daughter', 'big'), ('time', 'year', 'old', 'daughter'), ('year', 'old', 'daughter', 'love'), ('making', 'history', 'come', 'alive'), ('one', 'thing', 'dont', 'like'), ('three', 'year', 'old', 'also'), ('Ive', 'never', 'seen', 'anything'), ('ever', 'read', 'cant', 'wait'), ('think', 'L', 'J', 'Smith'), ('highly', 'recommend', 'book', 'readers'), ('look', 'forward', 'reading', 'next'), ('book', 'fairly', 'easy', 'read')]\n"
     ]
    }
   ],
   "source": [
    "quadgram_comments = nlargest(100, g, key=g.get)\n",
    "print(quadgram_comments)"
   ]
  },
  {
   "cell_type": "code",
   "execution_count": 62,
   "metadata": {},
   "outputs": [
    {
     "name": "stdout",
     "output_type": "stream",
     "text": [
      "[('one', 'best', 'books', 'ever', 'read'), ('one', 'best', 'books', 'Ive', 'ever'), ('best', 'books', 'Ive', 'ever', 'read'), ('AVC', 'BDRunning', 'time', 'Movie', 'size'), ('BDRunning', 'time', 'Movie', 'size', 'bytesDisc'), ('time', 'Movie', 'size', 'bytesDisc', 'size'), ('Movie', 'size', 'bytesDisc', 'size', 'bytesAverage'), ('size', 'bytesDisc', 'size', 'bytesAverage', 'Video'), ('bytesDisc', 'size', 'bytesAverage', 'Video', 'Bit'), ('size', 'bytesAverage', 'Video', 'Bit', 'Rate'), ('bytesAverage', 'Video', 'Bit', 'Rate', 'MbpsDolby'), ('Video', 'Bit', 'Rate', 'MbpsDolby', 'TrueHD'), ('one', 'best', 'books', 'ever', 'written'), ('Quick', 'Easy', 'Way', 'Effective', 'Speaking'), ('best', 'book', 'Ive', 'ever', 'read'), ('Philadelphia', 'Catholic', 'King', 'Jamess', 'Court'), ('Philadelphia', 'Catholic', 'King', 'James', 'Court'), ('easy', 'put', 'together', 'highly', 'recommend'), ('cant', 'say', 'enough', 'good', 'things'), ('Making', 'Memory', 'Books', 'Journals', 'Hand'), ('Bit', 'Rate', 'MbpsDolby', 'TrueHD', 'bitSpiderMan'), ('Aldous', 'Huxleys', 'Brave', 'New', 'World'), ('first', 'read', 'book', 'years', 'ago'), ('can', 'not', 'tell', 'many', 'times'), ('Stayin', 'Alive', 'Armed', 'Female', 'Unsafe'), ('Alive', 'Armed', 'Female', 'Unsafe', 'World'), ('Fiber', 'Ethernet', 'Media', 'Converter', 'Multi'), ('Ethernet', 'Media', 'Converter', 'Multi', 'Mode'), ('Media', 'Converter', 'Multi', 'Mode', 'SC'), ('Converter', 'Multi', 'Mode', 'SC', 'km'), ('books', 'Foundations', 'Edge', 'Foundation', 'Earth'), ('life', 'highly', 'recommend', 'book', 'anyone'), ('opinion', 'one', 'best', 'books', 'ever'), ('best', 'true', 'crime', 'book', 'ever'), ('not', 'sure', 'movie', 'didnt', 'well'), ('sure', 'movie', 'didnt', 'well', 'faults'), ('movie', 'didnt', 'well', 'faults', 'many'), ('didnt', 'well', 'faults', 'many', 'movies'), ('well', 'faults', 'many', 'movies', 'others'), ('faults', 'many', 'movies', 'others', 'praise'), ('many', 'movies', 'others', 'praise', 'biggest'), ('movies', 'others', 'praise', 'biggest', 'complaint'), ('others', 'praise', 'biggest', 'complaint', 'movie'), ('praise', 'biggest', 'complaint', 'movie', 'several'), ('biggest', 'complaint', 'movie', 'several', 'editing'), ('complaint', 'movie', 'several', 'editing', 'problems'), ('movie', 'several', 'editing', 'problems', 'OverallIt'), ('several', 'editing', 'problems', 'OverallIt', 'entertaining'), ('editing', 'problems', 'OverallIt', 'entertaining', 'action'), ('problems', 'OverallIt', 'entertaining', 'action', 'movie'), ('OverallIt', 'entertaining', 'action', 'movie', 'fantastic'), ('entertaining', 'action', 'movie', 'fantastic', 'story'), ('every', 'child', 'place', 'go', 'felt'), ('child', 'place', 'go', 'felt', 'safe'), ('place', 'go', 'felt', 'safe', 'cared'), ('think', 'one', 'best', 'books', 'ever'), ('never', 'really', 'paid', 'much', 'attention'), ('book', 'not', 'help', 'pass', 'exam'), ('best', 'books', 'Ive', 'ever', 'readfound'), ('definitely', 'recommend', 'book', 'anyone', 'wants'), ('RiteAV', 'ft', 'mm', 'Extension', 'Cable'), ('holidays', 'theme', 'parties', 'favors', 'guests'), ('Litecubes', 'economical', 'certainly', 'provide', 'entertainment'), ('enjoy', 'late', 'romantic', 'symphonic', 'music'), ('Catholic', 'King', 'Jamess', 'Court', 'good'), ('King', 'Jamess', 'Court', 'good', 'book'), ('sharpwitted', 'tale', 'especially', 'appealing', 'anyone'), ('tale', 'especially', 'appealing', 'anyone', 'ever'), ('especially', 'appealing', 'anyone', 'ever', 'read'), ('appealing', 'anyone', 'ever', 'read', 'Tolkien'), ('anyone', 'ever', 'read', 'Tolkien', 'ilk'), ('ever', 'read', 'Tolkien', 'ilk', 'Discworld'), ('read', 'Tolkien', 'ilk', 'Discworld', 'absurd'), ('Tolkien', 'ilk', 'Discworld', 'absurd', 'complex'), ('ilk', 'Discworld', 'absurd', 'complex', 'yet'), ('Discworld', 'absurd', 'complex', 'yet', 'held'), ('absurd', 'complex', 'yet', 'held', 'fabric'), ('complex', 'yet', 'held', 'fabric', 'reality'), ('yet', 'held', 'fabric', 'reality', 'plausible'), ('held', 'fabric', 'reality', 'plausible', 'Im'), ('fabric', 'reality', 'plausible', 'Im', 'hard'), ('reality', 'plausible', 'Im', 'hard', 'pressed'), ('plausible', 'Im', 'hard', 'pressed', 'think'), ('Im', 'hard', 'pressed', 'think', 'likable'), ('hard', 'pressed', 'think', 'likable', 'character'), ('pressed', 'think', 'likable', 'character', 'Corporal'), ('think', 'likable', 'character', 'Corporal', 'Carrot'), ('likable', 'character', 'Corporal', 'Carrot', 'modest'), ('character', 'Corporal', 'Carrot', 'modest', 'antigun'), ('Corporal', 'Carrot', 'modest', 'antigun', 'message'), ('Carrot', 'modest', 'antigun', 'message', 'subtle'), ('modest', 'antigun', 'message', 'subtle', 'enough'), ('antigun', 'message', 'subtle', 'enough', 'remain'), ('Trick', 'Keep', 'Breathing', 'Look', 'Fine'), ('dont', 'usually', 'read', 'books', 'twice'), ('gave', 'four', 'stars', 'instead', 'five'), ('played', 'Henry', 'Fonda', 'John', 'Wayne'), ('cant', 'wait', 'till', 'next', 'book'), ('started', 'using', 'Pampers', 'Baby', 'Dry'), ('got', 'flexy', 'wings', 'almost', 'like')]\n"
     ]
    }
   ],
   "source": [
    "quintgram_comments = nlargest(100, h, key=h.get)\n",
    "print(quintgram_comments)"
   ]
  },
  {
   "cell_type": "markdown",
   "metadata": {},
   "source": [
    "## Most of the positive reviews have been for technical products. Example: Fiber Ethernet cables.\n",
    "\n",
    "## We also see a huge customer satisfaction of certain movies and books which have repeated phrases of appreciations like: Best book ever read or Movie Overall Entertainer.\n",
    "\n",
    "## We hence suggest to identify best liked genres and focus on the sales of such products and also to expand inventory on technical products."
   ]
  }
 ],
 "metadata": {
  "colab": {
   "collapsed_sections": [],
   "name": "Project7 - Product review analytics using text classification.ipynb",
   "provenance": [],
   "version": "0.3.2"
  },
  "kernelspec": {
   "display_name": "Python 3",
   "language": "python",
   "name": "python3"
  },
  "language_info": {
   "codemirror_mode": {
    "name": "ipython",
    "version": 3
   },
   "file_extension": ".py",
   "mimetype": "text/x-python",
   "name": "python",
   "nbconvert_exporter": "python",
   "pygments_lexer": "ipython3",
   "version": "3.7.1"
  }
 },
 "nbformat": 4,
 "nbformat_minor": 1
}
